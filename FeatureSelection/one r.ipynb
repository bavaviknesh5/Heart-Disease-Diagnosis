{
 "cells": [
  {
   "cell_type": "code",
   "execution_count": 1,
   "id": "2b51cf5d",
   "metadata": {},
   "outputs": [],
   "source": [
    "# import pandas as pd\n",
    "# import numpy as np\n",
    "# import warnings\n",
    "# warnings.filterwarnings('ignore')\n",
    "# from tabulate import tabulate"
   ]
  },
  {
   "cell_type": "code",
   "execution_count": 2,
   "id": "b31e49ca",
   "metadata": {},
   "outputs": [
    {
     "name": "stdout",
     "output_type": "stream",
     "text": [
      "Selected feature: feature_3\n"
     ]
    },
    {
     "ename": "IndexError",
     "evalue": "only integers, slices (`:`), ellipsis (`...`), numpy.newaxis (`None`) and integer or boolean arrays are valid indices",
     "output_type": "error",
     "traceback": [
      "\u001b[1;31m---------------------------------------------------------------------------\u001b[0m",
      "\u001b[1;31mIndexError\u001b[0m                                Traceback (most recent call last)",
      "\u001b[1;32m~\\AppData\\Local\\Temp\\ipykernel_5976\\243373750.py\u001b[0m in \u001b[0;36m<module>\u001b[1;34m\u001b[0m\n\u001b[0;32m     50\u001b[0m \u001b[1;31m# Train a Gaussian Naive Bayes classifier using the selected feature\u001b[0m\u001b[1;33m\u001b[0m\u001b[1;33m\u001b[0m\u001b[0m\n\u001b[0;32m     51\u001b[0m \u001b[0mclf\u001b[0m \u001b[1;33m=\u001b[0m \u001b[0mGaussianNB\u001b[0m\u001b[1;33m(\u001b[0m\u001b[1;33m)\u001b[0m\u001b[1;33m\u001b[0m\u001b[1;33m\u001b[0m\u001b[0m\n\u001b[1;32m---> 52\u001b[1;33m \u001b[0mclf\u001b[0m\u001b[1;33m.\u001b[0m\u001b[0mfit\u001b[0m\u001b[1;33m(\u001b[0m\u001b[0mX_train\u001b[0m\u001b[1;33m[\u001b[0m\u001b[1;33m:\u001b[0m\u001b[1;33m,\u001b[0m \u001b[1;33m[\u001b[0m\u001b[0mselected_feature\u001b[0m\u001b[1;33m]\u001b[0m\u001b[1;33m]\u001b[0m\u001b[1;33m,\u001b[0m \u001b[0my_train\u001b[0m\u001b[1;33m)\u001b[0m\u001b[1;33m\u001b[0m\u001b[1;33m\u001b[0m\u001b[0m\n\u001b[0m\u001b[0;32m     53\u001b[0m \u001b[1;33m\u001b[0m\u001b[0m\n\u001b[0;32m     54\u001b[0m \u001b[1;31m# Evaluate the classifier on the test set\u001b[0m\u001b[1;33m\u001b[0m\u001b[1;33m\u001b[0m\u001b[0m\n",
      "\u001b[1;31mIndexError\u001b[0m: only integers, slices (`:`), ellipsis (`...`), numpy.newaxis (`None`) and integer or boolean arrays are valid indices"
     ]
    }
   ],
   "source": [
    "import pandas as pd\n",
    "from sklearn.datasets import load_iris\n",
    "from sklearn.metrics import accuracy_score\n",
    "from sklearn.model_selection import train_test_split\n",
    "from sklearn.naive_bayes import GaussianNB\n",
    "\n",
    "\n",
    "def oner_feature_selection(X, y):\n",
    "    # Convert input data to pandas DataFrame\n",
    "    data = pd.DataFrame(X, columns=['feature_1', 'feature_2', 'feature_3', 'feature_4'])\n",
    "    data['target'] = y\n",
    "\n",
    "    # Create a list of features\n",
    "    features = data.columns[:-1]\n",
    "\n",
    "    # Initialize dictionary to store accuracy for each feature\n",
    "    feature_acc = {}\n",
    "\n",
    "    # Iterate over each feature\n",
    "    for feature in features:\n",
    "        # Create a OneR rule using the current feature\n",
    "        rules = data[[feature, 'target']].groupby(feature)['target'].agg(lambda x:x.value_counts().index[0]).to_dict()\n",
    "\n",
    "        # Use the OneR rule to make predictions on the test set\n",
    "        predictions = [rules[x] for x in data[feature]]\n",
    "\n",
    "        # Calculate accuracy of the model\n",
    "        accuracy = accuracy_score(y, predictions)\n",
    "\n",
    "        # Store accuracy for the current feature\n",
    "        feature_acc[feature] = accuracy\n",
    "\n",
    "    # Select the feature with the highest accuracy\n",
    "    selected_feature = max(feature_acc, key=feature_acc.get)\n",
    "\n",
    "    return selected_feature\n",
    "\n",
    "\n",
    "# Load the iris dataset\n",
    "iris = load_iris()\n",
    "\n",
    "# Split the data into training and test sets\n",
    "X_train, X_test, y_train, y_test = train_test_split(iris.data, iris.target, test_size=0.2, random_state=42)\n",
    "\n",
    "# Select the best feature using OneR feature selection\n",
    "selected_feature = oner_feature_selection(X_train, y_train)\n",
    "\n",
    "print('Selected feature:', selected_feature)\n",
    "\n",
    "# Train a Gaussian Naive Bayes classifier using the selected feature\n",
    "clf = GaussianNB()\n",
    "clf.fit(X_train[:, [selected_feature]], y_train)\n",
    "\n",
    "# Evaluate the classifier on the test set\n",
    "accuracy = clf.score(X_test[:, [selected_feature]], y_test)\n",
    "\n",
    "print('Accuracy:', accuracy)\n"
   ]
  },
  {
   "cell_type": "code",
   "execution_count": null,
   "id": "f76b8db5",
   "metadata": {},
   "outputs": [],
   "source": []
  }
 ],
 "metadata": {
  "kernelspec": {
   "display_name": "Python 3 (ipykernel)",
   "language": "python",
   "name": "python3"
  },
  "language_info": {
   "codemirror_mode": {
    "name": "ipython",
    "version": 3
   },
   "file_extension": ".py",
   "mimetype": "text/x-python",
   "name": "python",
   "nbconvert_exporter": "python",
   "pygments_lexer": "ipython3",
   "version": "3.9.13"
  }
 },
 "nbformat": 4,
 "nbformat_minor": 5
}
