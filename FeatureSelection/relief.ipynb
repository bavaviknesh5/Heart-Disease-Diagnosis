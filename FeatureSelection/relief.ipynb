{
 "cells": [
  {
   "cell_type": "code",
   "execution_count": 1,
   "id": "f0c4edb4",
   "metadata": {},
   "outputs": [
    {
     "ename": "ModuleNotFoundError",
     "evalue": "No module named 'ReliefF'",
     "output_type": "error",
     "traceback": [
      "\u001b[1;31m---------------------------------------------------------------------------\u001b[0m",
      "\u001b[1;31mModuleNotFoundError\u001b[0m                       Traceback (most recent call last)",
      "\u001b[1;32m~\\AppData\\Local\\Temp\\ipykernel_1664\\536591291.py\u001b[0m in \u001b[0;36m<module>\u001b[1;34m\u001b[0m\n\u001b[1;32m----> 1\u001b[1;33m \u001b[1;32mfrom\u001b[0m \u001b[0mReliefF\u001b[0m \u001b[1;32mimport\u001b[0m \u001b[0mReliefF\u001b[0m\u001b[1;33m\u001b[0m\u001b[1;33m\u001b[0m\u001b[0m\n\u001b[0m\u001b[0;32m      2\u001b[0m \u001b[1;32mimport\u001b[0m \u001b[0mnumpy\u001b[0m \u001b[1;32mas\u001b[0m \u001b[0mnp\u001b[0m\u001b[1;33m\u001b[0m\u001b[1;33m\u001b[0m\u001b[0m\n\u001b[0;32m      3\u001b[0m \u001b[1;32mfrom\u001b[0m \u001b[0msklearn\u001b[0m \u001b[1;32mimport\u001b[0m \u001b[0mdatasets\u001b[0m\u001b[1;33m\u001b[0m\u001b[1;33m\u001b[0m\u001b[0m\n\u001b[0;32m      4\u001b[0m \u001b[1;32mimport\u001b[0m \u001b[0mpandas\u001b[0m \u001b[1;32mas\u001b[0m \u001b[0mpd\u001b[0m\u001b[1;33m\u001b[0m\u001b[1;33m\u001b[0m\u001b[0m\n\u001b[0;32m      5\u001b[0m \u001b[1;33m\u001b[0m\u001b[0m\n",
      "\u001b[1;31mModuleNotFoundError\u001b[0m: No module named 'ReliefF'"
     ]
    }
   ],
   "source": [
    "from ReliefF import ReliefF\n",
    "import numpy as np\n",
    "from sklearn import datasets\n",
    "import pandas as pd\n",
    "\n",
    "#example of 2 class problem\n",
    "data = np.array([[9,2,2],[5,1,0],[9,3,2],[8,3,1],[6,0,0]])\n",
    "target = np.array([0,0,1,1,1])\n",
    "\n",
    "fs = ReliefF(n_neighbors=1, n_features_to_keep=2)\n",
    "X_train = fs.fit_transform(data, target)\n",
    "print(X_train)\n",
    "print(\"--------------\")\n",
    "print(\"(No. of tuples, No. of Columns before ReliefF) : \"+str(data.shape)+\n",
    "      \"\\n(No. of tuples , No. of Columns after ReliefF) : \"+str(X_train.shape))\n",
    "\n",
    "\n",
    "#example of multi class problem\n",
    "iris = datasets.load_iris()\n",
    "X = iris.data\n",
    "Y = iris.target\n",
    "\n",
    "fs = ReliefF(n_neighbors=20, n_features_to_keep=2)\n",
    "X_train = fs.fit_transform(X, Y)\n",
    "print(\"(No. of tuples, No. of Columns before ReliefF) : \"+str(iris.data.shape)+\n",
    "      \"\\n(No. of tuples, No. of Columns after ReliefF) : \"+str(X_train.shape))"
   ]
  },
  {
   "cell_type": "code",
   "execution_count": null,
   "id": "9613ec8c",
   "metadata": {},
   "outputs": [],
   "source": []
  }
 ],
 "metadata": {
  "kernelspec": {
   "display_name": "Python 3 (ipykernel)",
   "language": "python",
   "name": "python3"
  },
  "language_info": {
   "codemirror_mode": {
    "name": "ipython",
    "version": 3
   },
   "file_extension": ".py",
   "mimetype": "text/x-python",
   "name": "python",
   "nbconvert_exporter": "python",
   "pygments_lexer": "ipython3",
   "version": "3.9.13"
  }
 },
 "nbformat": 4,
 "nbformat_minor": 5
}
