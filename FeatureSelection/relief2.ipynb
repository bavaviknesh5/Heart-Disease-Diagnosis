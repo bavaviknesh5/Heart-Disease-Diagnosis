{
 "cells": [
  {
   "cell_type": "code",
   "execution_count": 3,
   "id": "bd59a665",
   "metadata": {},
   "outputs": [
    {
     "name": "stdout",
     "output_type": "stream",
     "text": [
      "Index(['age', 'cp', 'trestbps', 'chol', 'thalach', 'exang', 'oldpeak', 'slope',\n",
      "       'ca', 'thal'],\n",
      "      dtype='object')\n"
     ]
    }
   ],
   "source": [
    "import pandas as pd\n",
    "import numpy as np\n",
    "from sklearn.feature_selection import SelectKBest\n",
    "from sklearn.feature_selection import mutual_info_classif\n",
    "from sklearn.neighbors import KNeighborsClassifier\n",
    "\n",
    "# Load the dataset\n",
    "data = pd.read_csv('heart.csv')\n",
    "\n",
    "# Separate the features and target variable\n",
    "X = data.drop('target', axis=1)\n",
    "y = data['target']\n",
    "\n",
    "# Apply Relief feature selection to select the top 10 features\n",
    "estimator = KNeighborsClassifier(n_neighbors=5)\n",
    "selector = SelectKBest(mutual_info_classif, k=10)\n",
    "selector.fit(X, y)\n",
    "\n",
    "# Get the indices of the selected features\n",
    "mask = selector.get_support()\n",
    "selected_features = X.columns[mask]\n",
    "\n",
    "# Print the selected features\n",
    "print(selected_features)\n"
   ]
  },
  {
   "cell_type": "code",
   "execution_count": null,
   "id": "8183d6e8",
   "metadata": {},
   "outputs": [],
   "source": []
  }
 ],
 "metadata": {
  "kernelspec": {
   "display_name": "Python 3 (ipykernel)",
   "language": "python",
   "name": "python3"
  },
  "language_info": {
   "codemirror_mode": {
    "name": "ipython",
    "version": 3
   },
   "file_extension": ".py",
   "mimetype": "text/x-python",
   "name": "python",
   "nbconvert_exporter": "python",
   "pygments_lexer": "ipython3",
   "version": "3.9.13"
  }
 },
 "nbformat": 4,
 "nbformat_minor": 5
}
