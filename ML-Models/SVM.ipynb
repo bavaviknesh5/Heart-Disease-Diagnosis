{
 "cells": [
  {
   "cell_type": "code",
   "execution_count": 12,
   "id": "c7dcda76",
   "metadata": {
    "_cell_guid": "b1076dfc-b9ad-4769-8c92-a6c4dae69d19",
    "_uuid": "8f2839f25d086af736a60e9eeb907d3b93b6e0e5",
    "execution": {
     "iopub.execute_input": "2023-03-08T09:28:18.958213Z",
     "iopub.status.busy": "2023-03-08T09:28:18.957720Z",
     "iopub.status.idle": "2023-03-08T09:28:20.243599Z",
     "shell.execute_reply": "2023-03-08T09:28:20.242194Z"
    },
    "papermill": {
     "duration": 1.297321,
     "end_time": "2023-03-08T09:28:20.245959",
     "exception": false,
     "start_time": "2023-03-08T09:28:18.948638",
     "status": "completed"
    },
    "tags": []
   },
   "outputs": [],
   "source": [
    "import numpy as np \n",
    "import pandas as pd \n",
    "import matplotlib.pyplot as plt\n",
    "import seaborn as sns\n",
    "from sklearn.ensemble import  AdaBoostClassifier\n",
    "from sklearn.preprocessing import MinMaxScaler\n",
    "%matplotlib inline\n",
    "from sklearn.model_selection import train_test_split\n",
    "from sklearn.metrics import accuracy_score,classification_report,confusion_matrix,roc_auc_score\n",
    "import warnings\n",
    "warnings.filterwarnings('ignore')"
   ]
  },
  {
   "cell_type": "code",
   "execution_count": 13,
   "id": "3af865d1",
   "metadata": {
    "execution": {
     "iopub.execute_input": "2023-03-08T09:28:20.263522Z",
     "iopub.status.busy": "2023-03-08T09:28:20.263133Z",
     "iopub.status.idle": "2023-03-08T09:28:20.296451Z",
     "shell.execute_reply": "2023-03-08T09:28:20.295487Z"
    },
    "papermill": {
     "duration": 0.045144,
     "end_time": "2023-03-08T09:28:20.299355",
     "exception": false,
     "start_time": "2023-03-08T09:28:20.254211",
     "status": "completed"
    },
    "tags": []
   },
   "outputs": [
    {
     "data": {
      "text/html": [
       "<div>\n",
       "<style scoped>\n",
       "    .dataframe tbody tr th:only-of-type {\n",
       "        vertical-align: middle;\n",
       "    }\n",
       "\n",
       "    .dataframe tbody tr th {\n",
       "        vertical-align: top;\n",
       "    }\n",
       "\n",
       "    .dataframe thead th {\n",
       "        text-align: right;\n",
       "    }\n",
       "</style>\n",
       "<table border=\"1\" class=\"dataframe\">\n",
       "  <thead>\n",
       "    <tr style=\"text-align: right;\">\n",
       "      <th></th>\n",
       "      <th>age</th>\n",
       "      <th>sex</th>\n",
       "      <th>cp</th>\n",
       "      <th>trestbps</th>\n",
       "      <th>chol</th>\n",
       "      <th>fbs</th>\n",
       "      <th>restecg</th>\n",
       "      <th>thalach</th>\n",
       "      <th>exang</th>\n",
       "      <th>oldpeak</th>\n",
       "      <th>slope</th>\n",
       "      <th>ca</th>\n",
       "      <th>thal</th>\n",
       "      <th>target</th>\n",
       "    </tr>\n",
       "  </thead>\n",
       "  <tbody>\n",
       "    <tr>\n",
       "      <th>0</th>\n",
       "      <td>52</td>\n",
       "      <td>1</td>\n",
       "      <td>0</td>\n",
       "      <td>125</td>\n",
       "      <td>212</td>\n",
       "      <td>0</td>\n",
       "      <td>1</td>\n",
       "      <td>168</td>\n",
       "      <td>0</td>\n",
       "      <td>1.0</td>\n",
       "      <td>2</td>\n",
       "      <td>2</td>\n",
       "      <td>3</td>\n",
       "      <td>0</td>\n",
       "    </tr>\n",
       "    <tr>\n",
       "      <th>1</th>\n",
       "      <td>53</td>\n",
       "      <td>1</td>\n",
       "      <td>0</td>\n",
       "      <td>140</td>\n",
       "      <td>203</td>\n",
       "      <td>1</td>\n",
       "      <td>0</td>\n",
       "      <td>155</td>\n",
       "      <td>1</td>\n",
       "      <td>3.1</td>\n",
       "      <td>0</td>\n",
       "      <td>0</td>\n",
       "      <td>3</td>\n",
       "      <td>0</td>\n",
       "    </tr>\n",
       "    <tr>\n",
       "      <th>2</th>\n",
       "      <td>70</td>\n",
       "      <td>1</td>\n",
       "      <td>0</td>\n",
       "      <td>145</td>\n",
       "      <td>174</td>\n",
       "      <td>0</td>\n",
       "      <td>1</td>\n",
       "      <td>125</td>\n",
       "      <td>1</td>\n",
       "      <td>2.6</td>\n",
       "      <td>0</td>\n",
       "      <td>0</td>\n",
       "      <td>3</td>\n",
       "      <td>0</td>\n",
       "    </tr>\n",
       "    <tr>\n",
       "      <th>3</th>\n",
       "      <td>61</td>\n",
       "      <td>1</td>\n",
       "      <td>0</td>\n",
       "      <td>148</td>\n",
       "      <td>203</td>\n",
       "      <td>0</td>\n",
       "      <td>1</td>\n",
       "      <td>161</td>\n",
       "      <td>0</td>\n",
       "      <td>0.0</td>\n",
       "      <td>2</td>\n",
       "      <td>1</td>\n",
       "      <td>3</td>\n",
       "      <td>0</td>\n",
       "    </tr>\n",
       "    <tr>\n",
       "      <th>4</th>\n",
       "      <td>62</td>\n",
       "      <td>0</td>\n",
       "      <td>0</td>\n",
       "      <td>138</td>\n",
       "      <td>294</td>\n",
       "      <td>1</td>\n",
       "      <td>1</td>\n",
       "      <td>106</td>\n",
       "      <td>0</td>\n",
       "      <td>1.9</td>\n",
       "      <td>1</td>\n",
       "      <td>3</td>\n",
       "      <td>2</td>\n",
       "      <td>0</td>\n",
       "    </tr>\n",
       "  </tbody>\n",
       "</table>\n",
       "</div>"
      ],
      "text/plain": [
       "   age  sex  cp  trestbps  chol  fbs  restecg  thalach  exang  oldpeak  slope  \\\n",
       "0   52    1   0       125   212    0        1      168      0      1.0      2   \n",
       "1   53    1   0       140   203    1        0      155      1      3.1      0   \n",
       "2   70    1   0       145   174    0        1      125      1      2.6      0   \n",
       "3   61    1   0       148   203    0        1      161      0      0.0      2   \n",
       "4   62    0   0       138   294    1        1      106      0      1.9      1   \n",
       "\n",
       "   ca  thal  target  \n",
       "0   2     3       0  \n",
       "1   0     3       0  \n",
       "2   0     3       0  \n",
       "3   1     3       0  \n",
       "4   3     2       0  "
      ]
     },
     "execution_count": 13,
     "metadata": {},
     "output_type": "execute_result"
    }
   ],
   "source": [
    "df=pd.read_csv('heart.csv')\n",
    "df.head()"
   ]
  },
  {
   "cell_type": "code",
   "execution_count": 14,
   "id": "a35ff168",
   "metadata": {
    "execution": {
     "iopub.execute_input": "2023-03-08T09:28:20.318754Z",
     "iopub.status.busy": "2023-03-08T09:28:20.318105Z",
     "iopub.status.idle": "2023-03-08T09:28:20.333754Z",
     "shell.execute_reply": "2023-03-08T09:28:20.333065Z"
    },
    "papermill": {
     "duration": 0.02762,
     "end_time": "2023-03-08T09:28:20.335820",
     "exception": false,
     "start_time": "2023-03-08T09:28:20.308200",
     "status": "completed"
    },
    "tags": []
   },
   "outputs": [],
   "source": [
    "# --- Fix Data Types ---\n",
    "lst=['sex', 'cp', 'fbs', 'restecg', 'exang', 'slope', 'ca', 'thal']\n",
    "df[lst] = df[lst].astype(object)"
   ]
  },
  {
   "cell_type": "code",
   "execution_count": 15,
   "id": "88522bd5",
   "metadata": {
    "execution": {
     "iopub.execute_input": "2023-03-08T09:28:20.355048Z",
     "iopub.status.busy": "2023-03-08T09:28:20.354691Z",
     "iopub.status.idle": "2023-03-08T09:28:20.360322Z",
     "shell.execute_reply": "2023-03-08T09:28:20.359490Z"
    },
    "papermill": {
     "duration": 0.01813,
     "end_time": "2023-03-08T09:28:20.362116",
     "exception": false,
     "start_time": "2023-03-08T09:28:20.343986",
     "status": "completed"
    },
    "tags": []
   },
   "outputs": [
    {
     "data": {
      "text/plain": [
       "(1025, 14)"
      ]
     },
     "execution_count": 15,
     "metadata": {},
     "output_type": "execute_result"
    }
   ],
   "source": [
    "df.shape"
   ]
  },
  {
   "cell_type": "code",
   "execution_count": 16,
   "id": "b32031bc",
   "metadata": {
    "_kg_hide-output": true,
    "execution": {
     "iopub.execute_input": "2023-03-08T09:28:20.379866Z",
     "iopub.status.busy": "2023-03-08T09:28:20.379531Z",
     "iopub.status.idle": "2023-03-08T09:28:20.397587Z",
     "shell.execute_reply": "2023-03-08T09:28:20.396314Z"
    },
    "papermill": {
     "duration": 0.029664,
     "end_time": "2023-03-08T09:28:20.399965",
     "exception": false,
     "start_time": "2023-03-08T09:28:20.370301",
     "status": "completed"
    },
    "tags": []
   },
   "outputs": [
    {
     "name": "stdout",
     "output_type": "stream",
     "text": [
      "<class 'pandas.core.frame.DataFrame'>\n",
      "RangeIndex: 1025 entries, 0 to 1024\n",
      "Data columns (total 14 columns):\n",
      " #   Column    Non-Null Count  Dtype  \n",
      "---  ------    --------------  -----  \n",
      " 0   age       1025 non-null   int64  \n",
      " 1   sex       1025 non-null   object \n",
      " 2   cp        1025 non-null   object \n",
      " 3   trestbps  1025 non-null   int64  \n",
      " 4   chol      1025 non-null   int64  \n",
      " 5   fbs       1025 non-null   object \n",
      " 6   restecg   1025 non-null   object \n",
      " 7   thalach   1025 non-null   int64  \n",
      " 8   exang     1025 non-null   object \n",
      " 9   oldpeak   1025 non-null   float64\n",
      " 10  slope     1025 non-null   object \n",
      " 11  ca        1025 non-null   object \n",
      " 12  thal      1025 non-null   object \n",
      " 13  target    1025 non-null   int64  \n",
      "dtypes: float64(1), int64(5), object(8)\n",
      "memory usage: 112.2+ KB\n"
     ]
    }
   ],
   "source": [
    "#Information about dataset\n",
    "df.info()"
   ]
  },
  {
   "cell_type": "code",
   "execution_count": 17,
   "id": "2a9e25d2",
   "metadata": {
    "execution": {
     "iopub.execute_input": "2023-03-08T09:28:20.450701Z",
     "iopub.status.busy": "2023-03-08T09:28:20.449612Z",
     "iopub.status.idle": "2023-03-08T09:28:20.478573Z",
     "shell.execute_reply": "2023-03-08T09:28:20.477255Z"
    },
    "papermill": {
     "duration": 0.040126,
     "end_time": "2023-03-08T09:28:20.480630",
     "exception": false,
     "start_time": "2023-03-08T09:28:20.440504",
     "status": "completed"
    },
    "tags": []
   },
   "outputs": [
    {
     "data": {
      "text/html": [
       "<div>\n",
       "<style scoped>\n",
       "    .dataframe tbody tr th:only-of-type {\n",
       "        vertical-align: middle;\n",
       "    }\n",
       "\n",
       "    .dataframe tbody tr th {\n",
       "        vertical-align: top;\n",
       "    }\n",
       "\n",
       "    .dataframe thead th {\n",
       "        text-align: right;\n",
       "    }\n",
       "</style>\n",
       "<table border=\"1\" class=\"dataframe\">\n",
       "  <thead>\n",
       "    <tr style=\"text-align: right;\">\n",
       "      <th></th>\n",
       "      <th>age</th>\n",
       "      <th>sex</th>\n",
       "      <th>trestbps</th>\n",
       "      <th>chol</th>\n",
       "      <th>fbs</th>\n",
       "      <th>restecg</th>\n",
       "      <th>thalach</th>\n",
       "      <th>exang</th>\n",
       "      <th>oldpeak</th>\n",
       "      <th>ca</th>\n",
       "      <th>...</th>\n",
       "      <th>cp_1</th>\n",
       "      <th>cp_2</th>\n",
       "      <th>cp_3</th>\n",
       "      <th>thal_0</th>\n",
       "      <th>thal_1</th>\n",
       "      <th>thal_2</th>\n",
       "      <th>thal_3</th>\n",
       "      <th>slope_0</th>\n",
       "      <th>slope_1</th>\n",
       "      <th>slope_2</th>\n",
       "    </tr>\n",
       "  </thead>\n",
       "  <tbody>\n",
       "    <tr>\n",
       "      <th>0</th>\n",
       "      <td>52</td>\n",
       "      <td>1</td>\n",
       "      <td>125</td>\n",
       "      <td>212</td>\n",
       "      <td>0</td>\n",
       "      <td>1</td>\n",
       "      <td>168</td>\n",
       "      <td>0</td>\n",
       "      <td>1.0</td>\n",
       "      <td>2</td>\n",
       "      <td>...</td>\n",
       "      <td>0</td>\n",
       "      <td>0</td>\n",
       "      <td>0</td>\n",
       "      <td>0</td>\n",
       "      <td>0</td>\n",
       "      <td>0</td>\n",
       "      <td>1</td>\n",
       "      <td>0</td>\n",
       "      <td>0</td>\n",
       "      <td>1</td>\n",
       "    </tr>\n",
       "    <tr>\n",
       "      <th>1</th>\n",
       "      <td>53</td>\n",
       "      <td>1</td>\n",
       "      <td>140</td>\n",
       "      <td>203</td>\n",
       "      <td>1</td>\n",
       "      <td>0</td>\n",
       "      <td>155</td>\n",
       "      <td>1</td>\n",
       "      <td>3.1</td>\n",
       "      <td>0</td>\n",
       "      <td>...</td>\n",
       "      <td>0</td>\n",
       "      <td>0</td>\n",
       "      <td>0</td>\n",
       "      <td>0</td>\n",
       "      <td>0</td>\n",
       "      <td>0</td>\n",
       "      <td>1</td>\n",
       "      <td>1</td>\n",
       "      <td>0</td>\n",
       "      <td>0</td>\n",
       "    </tr>\n",
       "    <tr>\n",
       "      <th>2</th>\n",
       "      <td>70</td>\n",
       "      <td>1</td>\n",
       "      <td>145</td>\n",
       "      <td>174</td>\n",
       "      <td>0</td>\n",
       "      <td>1</td>\n",
       "      <td>125</td>\n",
       "      <td>1</td>\n",
       "      <td>2.6</td>\n",
       "      <td>0</td>\n",
       "      <td>...</td>\n",
       "      <td>0</td>\n",
       "      <td>0</td>\n",
       "      <td>0</td>\n",
       "      <td>0</td>\n",
       "      <td>0</td>\n",
       "      <td>0</td>\n",
       "      <td>1</td>\n",
       "      <td>1</td>\n",
       "      <td>0</td>\n",
       "      <td>0</td>\n",
       "    </tr>\n",
       "    <tr>\n",
       "      <th>3</th>\n",
       "      <td>61</td>\n",
       "      <td>1</td>\n",
       "      <td>148</td>\n",
       "      <td>203</td>\n",
       "      <td>0</td>\n",
       "      <td>1</td>\n",
       "      <td>161</td>\n",
       "      <td>0</td>\n",
       "      <td>0.0</td>\n",
       "      <td>1</td>\n",
       "      <td>...</td>\n",
       "      <td>0</td>\n",
       "      <td>0</td>\n",
       "      <td>0</td>\n",
       "      <td>0</td>\n",
       "      <td>0</td>\n",
       "      <td>0</td>\n",
       "      <td>1</td>\n",
       "      <td>0</td>\n",
       "      <td>0</td>\n",
       "      <td>1</td>\n",
       "    </tr>\n",
       "    <tr>\n",
       "      <th>4</th>\n",
       "      <td>62</td>\n",
       "      <td>0</td>\n",
       "      <td>138</td>\n",
       "      <td>294</td>\n",
       "      <td>1</td>\n",
       "      <td>1</td>\n",
       "      <td>106</td>\n",
       "      <td>0</td>\n",
       "      <td>1.9</td>\n",
       "      <td>3</td>\n",
       "      <td>...</td>\n",
       "      <td>0</td>\n",
       "      <td>0</td>\n",
       "      <td>0</td>\n",
       "      <td>0</td>\n",
       "      <td>0</td>\n",
       "      <td>1</td>\n",
       "      <td>0</td>\n",
       "      <td>0</td>\n",
       "      <td>1</td>\n",
       "      <td>0</td>\n",
       "    </tr>\n",
       "  </tbody>\n",
       "</table>\n",
       "<p>5 rows × 22 columns</p>\n",
       "</div>"
      ],
      "text/plain": [
       "   age sex  trestbps  chol fbs restecg  thalach exang  oldpeak ca  ...  cp_1  \\\n",
       "0   52   1       125   212   0       1      168     0      1.0  2  ...     0   \n",
       "1   53   1       140   203   1       0      155     1      3.1  0  ...     0   \n",
       "2   70   1       145   174   0       1      125     1      2.6  0  ...     0   \n",
       "3   61   1       148   203   0       1      161     0      0.0  1  ...     0   \n",
       "4   62   0       138   294   1       1      106     0      1.9  3  ...     0   \n",
       "\n",
       "   cp_2  cp_3  thal_0  thal_1  thal_2  thal_3  slope_0  slope_1  slope_2  \n",
       "0     0     0       0       0       0       1        0        0        1  \n",
       "1     0     0       0       0       0       1        1        0        0  \n",
       "2     0     0       0       0       0       1        1        0        0  \n",
       "3     0     0       0       0       0       1        0        0        1  \n",
       "4     0     0       0       0       1       0        0        1        0  \n",
       "\n",
       "[5 rows x 22 columns]"
      ]
     },
     "execution_count": 17,
     "metadata": {},
     "output_type": "execute_result"
    }
   ],
   "source": [
    "# categorical columns\n",
    "cp = pd.get_dummies(df['cp'],prefix= 'cp')\n",
    "thal = pd.get_dummies(df['thal'],prefix = 'thal')\n",
    "slope = pd.get_dummies(df['slope'],prefix = 'slope')\n",
    "\n",
    "#merge dummy variables to main data frame\n",
    "frames = [ df,cp,thal,slope]\n",
    "df = pd.concat(frames,axis=1)\n",
    "\n",
    "#Dropping the unnecessory variables\n",
    "df=df.drop(columns = ['cp','thal','slope'])\n",
    "df.head()"
   ]
  },
  {
   "cell_type": "code",
   "execution_count": 18,
   "id": "5b90399f",
   "metadata": {
    "_kg_hide-output": true,
    "execution": {
     "iopub.execute_input": "2023-03-08T09:28:20.499893Z",
     "iopub.status.busy": "2023-03-08T09:28:20.499522Z",
     "iopub.status.idle": "2023-03-08T09:28:20.509490Z",
     "shell.execute_reply": "2023-03-08T09:28:20.508561Z"
    },
    "papermill": {
     "duration": 0.022077,
     "end_time": "2023-03-08T09:28:20.511627",
     "exception": false,
     "start_time": "2023-03-08T09:28:20.489550",
     "status": "completed"
    },
    "tags": []
   },
   "outputs": [
    {
     "data": {
      "text/plain": [
       "age         0\n",
       "sex         0\n",
       "trestbps    0\n",
       "chol        0\n",
       "fbs         0\n",
       "restecg     0\n",
       "thalach     0\n",
       "exang       0\n",
       "oldpeak     0\n",
       "ca          0\n",
       "target      0\n",
       "cp_0        0\n",
       "cp_1        0\n",
       "cp_2        0\n",
       "cp_3        0\n",
       "thal_0      0\n",
       "thal_1      0\n",
       "thal_2      0\n",
       "thal_3      0\n",
       "slope_0     0\n",
       "slope_1     0\n",
       "slope_2     0\n",
       "dtype: int64"
      ]
     },
     "execution_count": 18,
     "metadata": {},
     "output_type": "execute_result"
    }
   ],
   "source": [
    "#Missing values\n",
    "df.isnull().sum()"
   ]
  },
  {
   "cell_type": "markdown",
   "id": "e643cfd1",
   "metadata": {
    "papermill": {
     "duration": 0.008593,
     "end_time": "2023-03-08T09:28:20.529290",
     "exception": false,
     "start_time": "2023-03-08T09:28:20.520697",
     "status": "completed"
    },
    "tags": []
   },
   "source": [
    "# Separating Target Variable"
   ]
  },
  {
   "cell_type": "code",
   "execution_count": 19,
   "id": "035326cb",
   "metadata": {
    "execution": {
     "iopub.execute_input": "2023-03-08T09:28:20.548523Z",
     "iopub.status.busy": "2023-03-08T09:28:20.548145Z",
     "iopub.status.idle": "2023-03-08T09:28:20.554081Z",
     "shell.execute_reply": "2023-03-08T09:28:20.553195Z"
    },
    "papermill": {
     "duration": 0.017556,
     "end_time": "2023-03-08T09:28:20.555841",
     "exception": false,
     "start_time": "2023-03-08T09:28:20.538285",
     "status": "completed"
    },
    "tags": []
   },
   "outputs": [],
   "source": [
    "#Declaring Dependent and Independent variables\n",
    "X = df.drop(['target'],axis=1)\n",
    "y = df['target']"
   ]
  },
  {
   "cell_type": "markdown",
   "id": "ca456a80",
   "metadata": {
    "papermill": {
     "duration": 0.008687,
     "end_time": "2023-03-08T09:28:20.573643",
     "exception": false,
     "start_time": "2023-03-08T09:28:20.564956",
     "status": "completed"
    },
    "tags": []
   },
   "source": [
    "# Data Normalization"
   ]
  },
  {
   "cell_type": "code",
   "execution_count": 20,
   "id": "9107be93",
   "metadata": {
    "execution": {
     "iopub.execute_input": "2023-03-08T09:28:20.592668Z",
     "iopub.status.busy": "2023-03-08T09:28:20.592311Z",
     "iopub.status.idle": "2023-03-08T09:28:20.602826Z",
     "shell.execute_reply": "2023-03-08T09:28:20.602250Z"
    },
    "papermill": {
     "duration": 0.022532,
     "end_time": "2023-03-08T09:28:20.604955",
     "exception": false,
     "start_time": "2023-03-08T09:28:20.582423",
     "status": "completed"
    },
    "tags": []
   },
   "outputs": [],
   "source": [
    "X = MinMaxScaler().fit_transform(X)"
   ]
  },
  {
   "cell_type": "markdown",
   "id": "80ab5e91",
   "metadata": {
    "papermill": {
     "duration": 0.008357,
     "end_time": "2023-03-08T09:28:20.622243",
     "exception": false,
     "start_time": "2023-03-08T09:28:20.613886",
     "status": "completed"
    },
    "tags": []
   },
   "source": [
    "# Splitting Training and Testing Dataset"
   ]
  },
  {
   "cell_type": "code",
   "execution_count": 21,
   "id": "0c64cd76",
   "metadata": {
    "execution": {
     "iopub.execute_input": "2023-03-08T09:28:20.640782Z",
     "iopub.status.busy": "2023-03-08T09:28:20.640450Z",
     "iopub.status.idle": "2023-03-08T09:28:20.647309Z",
     "shell.execute_reply": "2023-03-08T09:28:20.646586Z"
    },
    "papermill": {
     "duration": 0.018198,
     "end_time": "2023-03-08T09:28:20.648991",
     "exception": false,
     "start_time": "2023-03-08T09:28:20.630793",
     "status": "completed"
    },
    "tags": []
   },
   "outputs": [],
   "source": [
    "#Splitting x and y into training and testing datasets\n",
    "\n",
    "X_train,X_test,y_train,y_test = train_test_split(X,y, test_size=0.2,random_state=4)"
   ]
  },
  {
   "cell_type": "code",
   "execution_count": 22,
   "id": "989799a6",
   "metadata": {
    "execution": {
     "iopub.execute_input": "2023-03-08T09:28:20.668088Z",
     "iopub.status.busy": "2023-03-08T09:28:20.667493Z",
     "iopub.status.idle": "2023-03-08T09:28:20.672831Z",
     "shell.execute_reply": "2023-03-08T09:28:20.671958Z"
    },
    "papermill": {
     "duration": 0.017145,
     "end_time": "2023-03-08T09:28:20.674843",
     "exception": false,
     "start_time": "2023-03-08T09:28:20.657698",
     "status": "completed"
    },
    "tags": []
   },
   "outputs": [
    {
     "data": {
      "text/plain": [
       "((820, 21), (205, 21))"
      ]
     },
     "execution_count": 22,
     "metadata": {},
     "output_type": "execute_result"
    }
   ],
   "source": [
    "#checking the shape of X_train and X_test\n",
    "X_train.shape, X_test.shape"
   ]
  },
  {
   "cell_type": "markdown",
   "id": "f47da0de",
   "metadata": {
    "papermill": {
     "duration": 0.008166,
     "end_time": "2023-03-08T09:28:20.691678",
     "exception": false,
     "start_time": "2023-03-08T09:28:20.683512",
     "status": "completed"
    },
    "tags": []
   },
   "source": [
    "# Model Training"
   ]
  },
  {
   "cell_type": "code",
   "execution_count": 23,
   "id": "bfa87cfe",
   "metadata": {
    "execution": {
     "iopub.execute_input": "2023-03-08T09:28:20.710026Z",
     "iopub.status.busy": "2023-03-08T09:28:20.709663Z",
     "iopub.status.idle": "2023-03-08T09:28:20.725227Z",
     "shell.execute_reply": "2023-03-08T09:28:20.723911Z"
    },
    "papermill": {
     "duration": 0.026982,
     "end_time": "2023-03-08T09:28:20.727139",
     "exception": false,
     "start_time": "2023-03-08T09:28:20.700157",
     "status": "completed"
    },
    "tags": []
   },
   "outputs": [
    {
     "name": "stdout",
     "output_type": "stream",
     "text": [
      "AdaBoost Classifier Model Accuracy: 0.848780487804878\n"
     ]
    }
   ],
   "source": [
    "model = AdaBoostClassifier(n_estimators=3)\n",
    "\n",
    "# Train Adaboost Classifer\n",
    "model.fit(X_train, y_train)\n",
    "\n",
    "#Predict the response for test dataset\n",
    "y_pred = model.predict(X_test)\n",
    "print(\"AdaBoost Classifier Model Accuracy:\", accuracy_score(y_test, y_pred))"
   ]
  },
  {
   "cell_type": "markdown",
   "id": "630c1c8e",
   "metadata": {
    "papermill": {
     "duration": 0.008374,
     "end_time": "2023-03-08T09:28:20.744696",
     "exception": false,
     "start_time": "2023-03-08T09:28:20.736322",
     "status": "completed"
    },
    "tags": []
   },
   "source": [
    "# Splitting Training and Testing Dataset"
   ]
  },
  {
   "cell_type": "code",
   "execution_count": 24,
   "id": "b7196afd",
   "metadata": {
    "execution": {
     "iopub.execute_input": "2023-03-08T09:28:20.764126Z",
     "iopub.status.busy": "2023-03-08T09:28:20.763736Z",
     "iopub.status.idle": "2023-03-08T09:28:26.584474Z",
     "shell.execute_reply": "2023-03-08T09:28:26.583051Z"
    },
    "papermill": {
     "duration": 5.833109,
     "end_time": "2023-03-08T09:28:26.586661",
     "exception": false,
     "start_time": "2023-03-08T09:28:20.753552",
     "status": "completed"
    },
    "tags": []
   },
   "outputs": [
    {
     "name": "stdout",
     "output_type": "stream",
     "text": [
      "Model Accuracy with SVC Base Estimator: 0.7707317073170732\n"
     ]
    }
   ],
   "source": [
    "# import Support Vector Classifier\n",
    "from sklearn.svm import SVC\n",
    "svc=SVC(probability=True, kernel='linear')\n",
    "\n",
    "# create adaboost classifer object\n",
    "model2 =AdaBoostClassifier(n_estimators=50, base_estimator=svc,learning_rate=1, random_state=0)\n",
    "\n",
    "# train adaboost classifer\n",
    "model2.fit(X_train, y_train)\n",
    "\n",
    "# predict test dataset\n",
    "y_pred = model2.predict(X_test)\n",
    "\n",
    "# calculate and print model accuracy\n",
    "print(\"Model Accuracy with SVC Base Estimator:\",accuracy_score(y_test, y_pred))"
   ]
  },
  {
   "cell_type": "markdown",
   "id": "730fa5ef",
   "metadata": {
    "papermill": {
     "duration": 0.009338,
     "end_time": "2023-03-08T09:28:26.624742",
     "exception": false,
     "start_time": "2023-03-08T09:28:26.615404",
     "status": "completed"
    },
    "tags": []
   },
   "source": [
    "# Accuracy"
   ]
  },
  {
   "cell_type": "code",
   "execution_count": 25,
   "id": "c8a1a289",
   "metadata": {
    "execution": {
     "iopub.execute_input": "2023-03-08T09:28:26.644679Z",
     "iopub.status.busy": "2023-03-08T09:28:26.644335Z",
     "iopub.status.idle": "2023-03-08T09:28:26.655533Z",
     "shell.execute_reply": "2023-03-08T09:28:26.654086Z"
    },
    "papermill": {
     "duration": 0.023282,
     "end_time": "2023-03-08T09:28:26.657449",
     "exception": false,
     "start_time": "2023-03-08T09:28:26.634167",
     "status": "completed"
    },
    "tags": []
   },
   "outputs": [
    {
     "name": "stdout",
     "output_type": "stream",
     "text": [
      "Model Test Accuracy : 0.8488\n",
      "Model Train Accuracy : 0.8476\n"
     ]
    }
   ],
   "source": [
    "y_pred = model.predict(X_test)\n",
    "y_pred_train = model.predict(X_train)\n",
    "from sklearn.metrics import accuracy_score\n",
    "print(\"Model Test Accuracy : {0:0.4f}\".format(accuracy_score(y_test,y_pred)))\n",
    "print(\"Model Train Accuracy : {0:0.4f}\".format(accuracy_score(y_train,y_pred_train)))"
   ]
  }
 ],
 "metadata": {
  "kernelspec": {
   "display_name": "Python 3 (ipykernel)",
   "language": "python",
   "name": "python3"
  },
  "language_info": {
   "codemirror_mode": {
    "name": "ipython",
    "version": 3
   },
   "file_extension": ".py",
   "mimetype": "text/x-python",
   "name": "python",
   "nbconvert_exporter": "python",
   "pygments_lexer": "ipython3",
   "version": "3.9.13"
  },
  "papermill": {
   "default_parameters": {},
   "duration": 17.986452,
   "end_time": "2023-03-08T09:28:28.638219",
   "environment_variables": {},
   "exception": null,
   "input_path": "__notebook__.ipynb",
   "output_path": "__notebook__.ipynb",
   "parameters": {},
   "start_time": "2023-03-08T09:28:10.651767",
   "version": "2.3.4"
  }
 },
 "nbformat": 4,
 "nbformat_minor": 5
}
