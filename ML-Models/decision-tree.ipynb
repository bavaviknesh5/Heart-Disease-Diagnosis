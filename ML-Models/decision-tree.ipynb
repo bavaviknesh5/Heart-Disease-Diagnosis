{
 "cells": [
  {
   "cell_type": "code",
   "execution_count": 12,
   "id": "549f19c8",
   "metadata": {
    "_cell_guid": "b1076dfc-b9ad-4769-8c92-a6c4dae69d19",
    "_uuid": "8f2839f25d086af736a60e9eeb907d3b93b6e0e5",
    "execution": {
     "iopub.execute_input": "2023-02-12T00:19:48.998826Z",
     "iopub.status.busy": "2023-02-12T00:19:48.998200Z",
     "iopub.status.idle": "2023-02-12T00:19:49.023191Z",
     "shell.execute_reply": "2023-02-12T00:19:49.022115Z"
    },
    "papermill": {
     "duration": 0.035421,
     "end_time": "2023-02-12T00:19:49.026283",
     "exception": false,
     "start_time": "2023-02-12T00:19:48.990862",
     "status": "completed"
    },
    "tags": []
   },
   "outputs": [],
   "source": [
    "\n",
    "import numpy as np \n",
    "import pandas as pd \n",
    "\n"
   ]
  },
  {
   "cell_type": "code",
   "execution_count": 13,
   "id": "10ff2685",
   "metadata": {
    "execution": {
     "iopub.execute_input": "2023-02-12T00:19:49.037057Z",
     "iopub.status.busy": "2023-02-12T00:19:49.036551Z",
     "iopub.status.idle": "2023-02-12T00:19:49.062329Z",
     "shell.execute_reply": "2023-02-12T00:19:49.060933Z"
    },
    "papermill": {
     "duration": 0.034252,
     "end_time": "2023-02-12T00:19:49.065105",
     "exception": false,
     "start_time": "2023-02-12T00:19:49.030853",
     "status": "completed"
    },
    "tags": []
   },
   "outputs": [],
   "source": [
    "dataset=pd.read_csv('heart.csv')"
   ]
  },
  {
   "cell_type": "code",
   "execution_count": 14,
   "id": "4de5c06c",
   "metadata": {
    "execution": {
     "iopub.execute_input": "2023-02-12T00:19:49.075941Z",
     "iopub.status.busy": "2023-02-12T00:19:49.075143Z",
     "iopub.status.idle": "2023-02-12T00:19:49.093027Z",
     "shell.execute_reply": "2023-02-12T00:19:49.091871Z"
    },
    "papermill": {
     "duration": 0.026589,
     "end_time": "2023-02-12T00:19:49.095828",
     "exception": false,
     "start_time": "2023-02-12T00:19:49.069239",
     "status": "completed"
    },
    "tags": []
   },
   "outputs": [],
   "source": [
    "#Seperating the data and labels\n",
    "X = dataset.drop(columns = 'target', axis = 1)\n",
    "Y = dataset['target']"
   ]
  },
  {
   "cell_type": "code",
   "execution_count": 15,
   "id": "651b08e0",
   "metadata": {
    "execution": {
     "iopub.execute_input": "2023-02-12T00:19:49.107320Z",
     "iopub.status.busy": "2023-02-12T00:19:49.106406Z",
     "iopub.status.idle": "2023-02-12T00:19:50.453680Z",
     "shell.execute_reply": "2023-02-12T00:19:50.452474Z"
    },
    "papermill": {
     "duration": 1.356821,
     "end_time": "2023-02-12T00:19:50.456758",
     "exception": false,
     "start_time": "2023-02-12T00:19:49.099937",
     "status": "completed"
    },
    "tags": []
   },
   "outputs": [],
   "source": [
    "#Data standardisation\n",
    "from sklearn.preprocessing import StandardScaler\n",
    "scaler = StandardScaler()\n",
    "scaler.fit(X)\n",
    "X = scaler.transform(X)"
   ]
  },
  {
   "cell_type": "code",
   "execution_count": 16,
   "id": "a87fd529",
   "metadata": {
    "execution": {
     "iopub.execute_input": "2023-02-12T00:19:50.466248Z",
     "iopub.status.busy": "2023-02-12T00:19:50.465798Z",
     "iopub.status.idle": "2023-02-12T00:19:50.543289Z",
     "shell.execute_reply": "2023-02-12T00:19:50.542162Z"
    },
    "papermill": {
     "duration": 0.085352,
     "end_time": "2023-02-12T00:19:50.545821",
     "exception": false,
     "start_time": "2023-02-12T00:19:50.460469",
     "status": "completed"
    },
    "tags": []
   },
   "outputs": [],
   "source": [
    "#Train,Test,Split\n",
    "from sklearn.model_selection import train_test_split\n",
    "X_train, X_test, Y_train, Y_test = train_test_split(X, Y, test_size = 0.3, stratify = Y,random_state = 2)"
   ]
  },
  {
   "cell_type": "code",
   "execution_count": 17,
   "id": "ae97aa44",
   "metadata": {
    "execution": {
     "iopub.execute_input": "2023-02-12T00:19:50.555441Z",
     "iopub.status.busy": "2023-02-12T00:19:50.554952Z",
     "iopub.status.idle": "2023-02-12T00:19:50.749878Z",
     "shell.execute_reply": "2023-02-12T00:19:50.748645Z"
    },
    "papermill": {
     "duration": 0.203188,
     "end_time": "2023-02-12T00:19:50.752793",
     "exception": false,
     "start_time": "2023-02-12T00:19:50.549605",
     "status": "completed"
    },
    "tags": []
   },
   "outputs": [],
   "source": [
    "from sklearn.tree import DecisionTreeClassifier\n",
    "classifier = DecisionTreeClassifier()\n"
   ]
  },
  {
   "cell_type": "code",
   "execution_count": 18,
   "id": "c76c1ead",
   "metadata": {
    "execution": {
     "iopub.execute_input": "2023-02-12T00:19:50.762216Z",
     "iopub.status.busy": "2023-02-12T00:19:50.761754Z",
     "iopub.status.idle": "2023-02-12T00:19:50.777942Z",
     "shell.execute_reply": "2023-02-12T00:19:50.776694Z"
    },
    "papermill": {
     "duration": 0.023861,
     "end_time": "2023-02-12T00:19:50.780602",
     "exception": false,
     "start_time": "2023-02-12T00:19:50.756741",
     "status": "completed"
    },
    "tags": []
   },
   "outputs": [
    {
     "data": {
      "text/plain": [
       "DecisionTreeClassifier()"
      ]
     },
     "execution_count": 18,
     "metadata": {},
     "output_type": "execute_result"
    }
   ],
   "source": [
    "classifier.fit(X_train, Y_train)"
   ]
  },
  {
   "cell_type": "code",
   "execution_count": 19,
   "id": "a435661c",
   "metadata": {
    "execution": {
     "iopub.execute_input": "2023-02-12T00:19:50.790852Z",
     "iopub.status.busy": "2023-02-12T00:19:50.789537Z",
     "iopub.status.idle": "2023-02-12T00:19:50.795601Z",
     "shell.execute_reply": "2023-02-12T00:19:50.794521Z"
    },
    "papermill": {
     "duration": 0.013678,
     "end_time": "2023-02-12T00:19:50.798124",
     "exception": false,
     "start_time": "2023-02-12T00:19:50.784446",
     "status": "completed"
    },
    "tags": []
   },
   "outputs": [],
   "source": [
    "Y_pred = classifier.predict(X_test)"
   ]
  },
  {
   "cell_type": "code",
   "execution_count": 20,
   "id": "5ae78134",
   "metadata": {
    "execution": {
     "iopub.execute_input": "2023-02-12T00:19:50.807870Z",
     "iopub.status.busy": "2023-02-12T00:19:50.807434Z",
     "iopub.status.idle": "2023-02-12T00:19:50.822660Z",
     "shell.execute_reply": "2023-02-12T00:19:50.820794Z"
    },
    "papermill": {
     "duration": 0.023737,
     "end_time": "2023-02-12T00:19:50.825719",
     "exception": false,
     "start_time": "2023-02-12T00:19:50.801982",
     "status": "completed"
    },
    "tags": []
   },
   "outputs": [
    {
     "name": "stdout",
     "output_type": "stream",
     "text": [
      "[[147   3]\n",
      " [  6 152]]\n",
      "              precision    recall  f1-score   support\n",
      "\n",
      "           0       0.96      0.98      0.97       150\n",
      "           1       0.98      0.96      0.97       158\n",
      "\n",
      "    accuracy                           0.97       308\n",
      "   macro avg       0.97      0.97      0.97       308\n",
      "weighted avg       0.97      0.97      0.97       308\n",
      "\n"
     ]
    }
   ],
   "source": [
    "from sklearn.metrics import classification_report, confusion_matrix\n",
    "print(confusion_matrix(Y_test, Y_pred))\n",
    "print(classification_report(Y_test, Y_pred))"
   ]
  },
  {
   "cell_type": "code",
   "execution_count": 21,
   "id": "d4c40296",
   "metadata": {
    "execution": {
     "iopub.execute_input": "2023-02-12T00:19:50.835666Z",
     "iopub.status.busy": "2023-02-12T00:19:50.835215Z",
     "iopub.status.idle": "2023-02-12T00:19:50.846462Z",
     "shell.execute_reply": "2023-02-12T00:19:50.845071Z"
    },
    "papermill": {
     "duration": 0.01928,
     "end_time": "2023-02-12T00:19:50.849164",
     "exception": false,
     "start_time": "2023-02-12T00:19:50.829884",
     "status": "completed"
    },
    "tags": []
   },
   "outputs": [
    {
     "data": {
      "text/plain": [
       "1.0"
      ]
     },
     "execution_count": 21,
     "metadata": {},
     "output_type": "execute_result"
    }
   ],
   "source": [
    "#Finding the accuracy score on training dataset\n",
    "from sklearn.metrics import accuracy_score\n",
    "X_train_prediction = classifier.predict(X_train)\n",
    "train_data_accuracy = accuracy_score(X_train_prediction, Y_train)\n",
    "train_data_accuracy"
   ]
  },
  {
   "cell_type": "code",
   "execution_count": 22,
   "id": "78782e8b",
   "metadata": {
    "execution": {
     "iopub.execute_input": "2023-02-12T00:19:50.859153Z",
     "iopub.status.busy": "2023-02-12T00:19:50.858685Z",
     "iopub.status.idle": "2023-02-12T00:19:50.869719Z",
     "shell.execute_reply": "2023-02-12T00:19:50.868164Z"
    },
    "papermill": {
     "duration": 0.019249,
     "end_time": "2023-02-12T00:19:50.872542",
     "exception": false,
     "start_time": "2023-02-12T00:19:50.853293",
     "status": "completed"
    },
    "tags": []
   },
   "outputs": [
    {
     "data": {
      "text/plain": [
       "0.9707792207792207"
      ]
     },
     "execution_count": 22,
     "metadata": {},
     "output_type": "execute_result"
    }
   ],
   "source": [
    "#Finding the accuracy score on test dataset\n",
    "from sklearn.metrics import accuracy_score\n",
    "X_test_prediction = classifier.predict(X_test)\n",
    "test_data_accuracy = accuracy_score(X_test_prediction, Y_test)\n",
    "test_data_accuracy"
   ]
  },
  {
   "cell_type": "code",
   "execution_count": null,
   "id": "e57f975d",
   "metadata": {},
   "outputs": [],
   "source": []
  },
  {
   "cell_type": "code",
   "execution_count": null,
   "id": "7513f488",
   "metadata": {},
   "outputs": [],
   "source": []
  }
 ],
 "metadata": {
  "kernelspec": {
   "display_name": "Python 3 (ipykernel)",
   "language": "python",
   "name": "python3"
  },
  "language_info": {
   "codemirror_mode": {
    "name": "ipython",
    "version": 3
   },
   "file_extension": ".py",
   "mimetype": "text/x-python",
   "name": "python",
   "nbconvert_exporter": "python",
   "pygments_lexer": "ipython3",
   "version": "3.9.13"
  },
  "papermill": {
   "default_parameters": {},
   "duration": 14.52361,
   "end_time": "2023-02-12T00:19:51.701092",
   "environment_variables": {},
   "exception": null,
   "input_path": "__notebook__.ipynb",
   "output_path": "__notebook__.ipynb",
   "parameters": {},
   "start_time": "2023-02-12T00:19:37.177482",
   "version": "2.3.4"
  }
 },
 "nbformat": 4,
 "nbformat_minor": 5
}
