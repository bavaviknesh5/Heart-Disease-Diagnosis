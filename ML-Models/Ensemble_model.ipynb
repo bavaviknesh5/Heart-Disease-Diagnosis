{
 "cells": [
  {
   "cell_type": "code",
   "execution_count": 1,
   "id": "f5c8c958",
   "metadata": {},
   "outputs": [],
   "source": [
    "import pandas as pd\n",
    "import numpy as np\n",
    "from sklearn.model_selection import train_test_split\n",
    "from sklearn.linear_model import LogisticRegression\n",
    "from sklearn.tree import DecisionTreeClassifier\n",
    "from sklearn.ensemble import RandomForestClassifier, VotingClassifier, AdaBoostClassifier\n",
    "from sklearn.metrics import accuracy_score, precision_score, recall_score, f1_score\n",
    "from sklearn.preprocessing import StandardScaler"
   ]
  },
  {
   "cell_type": "code",
   "execution_count": 2,
   "id": "203233d5",
   "metadata": {},
   "outputs": [],
   "source": [
    "\n",
    "# Load the Cleveland Heart Disease Dataset\n",
    "data = pd.read_csv('heart.csv')\n",
    "\n",
    "# Preprocessing the dataset\n",
    "# Replace missing values with the median of each column\n",
    "data = data.fillna(data.median())"
   ]
  },
  {
   "cell_type": "code",
   "execution_count": 3,
   "id": "673b4833",
   "metadata": {},
   "outputs": [],
   "source": [
    "# Split the dataset into training and testing sets\n",
    "X = data.drop(['target'], axis=1)\n",
    "y = data['target']\n",
    "X_train, X_test, y_train, y_test = train_test_split(X, y, test_size=0.2, random_state=0)"
   ]
  },
  {
   "cell_type": "code",
   "execution_count": 4,
   "id": "53abc708",
   "metadata": {},
   "outputs": [],
   "source": [
    "# Standardize the data\n",
    "sc = StandardScaler()\n",
    "X_train = sc.fit_transform(X_train)\n",
    "X_test = sc.transform(X_test)\n"
   ]
  },
  {
   "cell_type": "code",
   "execution_count": 5,
   "id": "3946b9fd",
   "metadata": {},
   "outputs": [],
   "source": [
    "# Build individual machine learning models\n",
    "lr = LogisticRegression(random_state=0)\n",
    "dt = DecisionTreeClassifier(random_state=0)\n",
    "rf = RandomForestClassifier(random_state=0)\n",
    "ab = AdaBoostClassifier(random_state=0)"
   ]
  },
  {
   "cell_type": "code",
   "execution_count": 7,
   "id": "374d1518",
   "metadata": {},
   "outputs": [
    {
     "data": {
      "text/plain": [
       "AdaBoostClassifier(random_state=0)"
      ]
     },
     "execution_count": 7,
     "metadata": {},
     "output_type": "execute_result"
    }
   ],
   "source": [
    "# Train individual models\n",
    "lr.fit(X_train, y_train)\n",
    "dt.fit(X_train, y_train)\n",
    "rf.fit(X_train, y_train)\n",
    "ab.fit(X_train, y_train)"
   ]
  },
  {
   "cell_type": "code",
   "execution_count": 8,
   "id": "5b99eeef",
   "metadata": {},
   "outputs": [],
   "source": [
    "# Evaluate individual models\n",
    "lr_pred = lr.predict(X_test)\n",
    "dt_pred = dt.predict(X_test)\n",
    "rf_pred = rf.predict(X_test)\n",
    "ab_pred = ab.predict(X_test)"
   ]
  },
  {
   "cell_type": "code",
   "execution_count": 9,
   "id": "66d9e46d",
   "metadata": {},
   "outputs": [
    {
     "name": "stdout",
     "output_type": "stream",
     "text": [
      "Logistic Regression Scores:\n",
      "Accuracy:  0.8634146341463415\n",
      "Precision:  0.8264462809917356\n",
      "Recall:  0.9345794392523364\n",
      "F1-score:  0.8771929824561404\n",
      "\n",
      "\n"
     ]
    }
   ],
   "source": [
    "print('Logistic Regression Scores:')\n",
    "print('Accuracy: ', accuracy_score(y_test, lr_pred))\n",
    "print('Precision: ', precision_score(y_test, lr_pred))\n",
    "print('Recall: ', recall_score(y_test, lr_pred))\n",
    "print('F1-score: ', f1_score(y_test, lr_pred))\n",
    "print('\\n')"
   ]
  },
  {
   "cell_type": "code",
   "execution_count": 10,
   "id": "dfc14583",
   "metadata": {},
   "outputs": [
    {
     "name": "stdout",
     "output_type": "stream",
     "text": [
      "Decision Tree Scores:\n",
      "Accuracy:  1.0\n",
      "Precision:  1.0\n",
      "Recall:  1.0\n",
      "F1-score:  1.0\n",
      "\n",
      "\n"
     ]
    }
   ],
   "source": [
    "print('Decision Tree Scores:')\n",
    "print('Accuracy: ', accuracy_score(y_test, dt_pred))\n",
    "print('Precision: ', precision_score(y_test, dt_pred))\n",
    "print('Recall: ', recall_score(y_test, dt_pred))\n",
    "print('F1-score: ', f1_score(y_test, dt_pred))\n",
    "print('\\n')"
   ]
  },
  {
   "cell_type": "code",
   "execution_count": 11,
   "id": "c6d01573",
   "metadata": {},
   "outputs": [
    {
     "name": "stdout",
     "output_type": "stream",
     "text": [
      "Random Forest Scores:\n",
      "Accuracy:  1.0\n",
      "Precision:  1.0\n",
      "Recall:  1.0\n",
      "F1-score:  1.0\n",
      "\n",
      "\n"
     ]
    }
   ],
   "source": [
    "print('Random Forest Scores:')\n",
    "print('Accuracy: ', accuracy_score(y_test, rf_pred))\n",
    "print('Precision: ', precision_score(y_test, rf_pred))\n",
    "print('Recall: ', recall_score(y_test, rf_pred))\n",
    "print('F1-score: ', f1_score(y_test, rf_pred))\n",
    "print('\\n')\n"
   ]
  },
  {
   "cell_type": "code",
   "execution_count": 12,
   "id": "7f6e381f",
   "metadata": {},
   "outputs": [
    {
     "name": "stdout",
     "output_type": "stream",
     "text": [
      "AdaBoost Scores:\n",
      "Accuracy:  0.8926829268292683\n",
      "Precision:  0.8695652173913043\n",
      "Recall:  0.9345794392523364\n",
      "F1-score:  0.9009009009009009\n",
      "\n",
      "\n"
     ]
    }
   ],
   "source": [
    "print('AdaBoost Scores:')\n",
    "print('Accuracy: ', accuracy_score(y_test, ab_pred))\n",
    "print('Precision: ', precision_score(y_test, ab_pred))\n",
    "print('Recall: ', recall_score(y_test, ab_pred))\n",
    "print('F1-score: ', f1_score(y_test, ab_pred))\n",
    "print('\\n')"
   ]
  },
  {
   "cell_type": "code",
   "execution_count": 13,
   "id": "b7f42b74",
   "metadata": {},
   "outputs": [
    {
     "data": {
      "text/plain": [
       "VotingClassifier(estimators=[('lr', LogisticRegression(random_state=0)),\n",
       "                             ('dt', DecisionTreeClassifier(random_state=0)),\n",
       "                             ('rf', RandomForestClassifier(random_state=0)),\n",
       "                             ('ab', AdaBoostClassifier(random_state=0))])"
      ]
     },
     "execution_count": 13,
     "metadata": {},
     "output_type": "execute_result"
    }
   ],
   "source": [
    "# Combine the outputs of individual models using Voting Classifier\n",
    "voting = VotingClassifier(estimators=[('lr', lr), ('dt', dt), ('rf', rf), ('ab', ab)], voting='hard')\n",
    "voting.fit(X_train, y_train)\n"
   ]
  },
  {
   "cell_type": "code",
   "execution_count": 14,
   "id": "0f0dd3d3",
   "metadata": {},
   "outputs": [],
   "source": [
    "# Evaluate the ensemble model\n",
    "voting_pred = voting.predict(X_test)"
   ]
  },
  {
   "cell_type": "code",
   "execution_count": 15,
   "id": "a6d3d4fa",
   "metadata": {},
   "outputs": [
    {
     "name": "stdout",
     "output_type": "stream",
     "text": [
      "Ensemble Model Scores:\n",
      "Accuracy:  0.975609756097561\n",
      "Precision:  1.0\n",
      "Recall:  0.9532710280373832\n",
      "F1-score:  0.9760765550239235\n"
     ]
    }
   ],
   "source": [
    "print('Ensemble Model Scores:')\n",
    "print('Accuracy: ', accuracy_score(y_test, voting_pred))\n",
    "print('Precision: ', precision_score(y_test, voting_pred))\n",
    "print('Recall: ', recall_score(y_test, voting_pred))\n",
    "print('F1-score: ', f1_score(y_test, voting_pred))"
   ]
  },
  {
   "cell_type": "code",
   "execution_count": null,
   "id": "1604f25e",
   "metadata": {},
   "outputs": [],
   "source": []
  }
 ],
 "metadata": {
  "kernelspec": {
   "display_name": "Python 3 (ipykernel)",
   "language": "python",
   "name": "python3"
  },
  "language_info": {
   "codemirror_mode": {
    "name": "ipython",
    "version": 3
   },
   "file_extension": ".py",
   "mimetype": "text/x-python",
   "name": "python",
   "nbconvert_exporter": "python",
   "pygments_lexer": "ipython3",
   "version": "3.9.13"
  }
 },
 "nbformat": 4,
 "nbformat_minor": 5
}
