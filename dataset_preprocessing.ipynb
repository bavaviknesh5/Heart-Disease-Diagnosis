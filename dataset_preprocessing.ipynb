{
 "cells": [
  {
   "cell_type": "markdown",
   "id": "fe49e576",
   "metadata": {
    "papermill": {
     "duration": 0.009253,
     "end_time": "2023-01-22T21:53:40.663103",
     "exception": false,
     "start_time": "2023-01-22T21:53:40.653850",
     "status": "completed"
    },
    "tags": []
   },
   "source": [
    "# Preprocessing UCI Heart disease dataset\n",
    "**Neural Networks for Machine Learning Applications**<br>\n",
    "22.1.2023<br>\n",
    "Sakari Lukkarinen<br>\n",
    "[Information Technology, Bachelor's Degree](https://www.metropolia.fi/en/academics/bachelors-degrees/information-technology)<br>\n",
    "[Metropolia University of Applied Sciences](https://www.metropolia.fi/en)"
   ]
  },
  {
   "cell_type": "markdown",
   "id": "af66d021",
   "metadata": {
    "papermill": {
     "duration": 0.007142,
     "end_time": "2023-01-22T21:53:40.677742",
     "exception": false,
     "start_time": "2023-01-22T21:53:40.670600",
     "status": "completed"
    },
    "tags": []
   },
   "source": [
    "## 1. Introduction\n",
    "\n",
    "The aim of this Notebook is to show how different features, like binary, categorical and numerical, can be transformed and scaled before training."
   ]
  },
  {
   "cell_type": "markdown",
   "id": "300c309e",
   "metadata": {
    "papermill": {
     "duration": 0.007539,
     "end_time": "2023-01-22T21:53:40.692665",
     "exception": false,
     "start_time": "2023-01-22T21:53:40.685126",
     "status": "completed"
    },
    "tags": []
   },
   "source": [
    "## 2. Setup\n",
    "\n",
    "We use \n",
    "- *numpy* to concatenate the features\n",
    "- *pandas* to read the dataset and study the descriptive statistics \n",
    "- *matplotlib* and *seaborn* to visualize the features, and \n",
    "- *sklearn* to preprocess the dataset. "
   ]
  },
  {
   "cell_type": "code",
   "execution_count": 5,
   "id": "374ad8ab",
   "metadata": {
    "execution": {
     "iopub.execute_input": "2023-01-22T21:53:40.709605Z",
     "iopub.status.busy": "2023-01-22T21:53:40.709099Z",
     "iopub.status.idle": "2023-01-22T21:53:42.119004Z",
     "shell.execute_reply": "2023-01-22T21:53:42.117547Z"
    },
    "papermill": {
     "duration": 1.422009,
     "end_time": "2023-01-22T21:53:42.121945",
     "exception": false,
     "start_time": "2023-01-22T21:53:40.699936",
     "status": "completed"
    },
    "tags": []
   },
   "outputs": [],
   "source": [
    "import numpy as np\n",
    "import pandas as pd\n",
    "import matplotlib.pyplot as plt\n",
    "import seaborn as sns\n",
    "from sklearn import preprocessing"
   ]
  },
  {
   "cell_type": "markdown",
   "id": "c9b758ea",
   "metadata": {
    "papermill": {
     "duration": 0.009798,
     "end_time": "2023-01-22T21:53:42.142383",
     "exception": false,
     "start_time": "2023-01-22T21:53:42.132585",
     "status": "completed"
    },
    "tags": []
   },
   "source": [
    "## 3. Dataset\n",
    "Read in the dataset using `pandas.read_csv` and show the column names."
   ]
  },
  {
   "cell_type": "code",
   "execution_count": 6,
   "id": "479921fa",
   "metadata": {
    "execution": {
     "iopub.execute_input": "2023-01-22T21:53:42.161010Z",
     "iopub.status.busy": "2023-01-22T21:53:42.160194Z",
     "iopub.status.idle": "2023-01-22T21:53:42.197810Z",
     "shell.execute_reply": "2023-01-22T21:53:42.196528Z"
    },
    "papermill": {
     "duration": 0.050749,
     "end_time": "2023-01-22T21:53:42.200506",
     "exception": false,
     "start_time": "2023-01-22T21:53:42.149757",
     "status": "completed"
    },
    "tags": []
   },
   "outputs": [
    {
     "data": {
      "text/plain": [
       "Index(['age', 'sex', 'cp', 'trestbps', 'chol', 'fbs', 'restecg', 'thalach',\n",
       "       'exang', 'oldpeak', 'slope', 'ca', 'thal', 'condition'],\n",
       "      dtype='object')"
      ]
     },
     "execution_count": 6,
     "metadata": {},
     "output_type": "execute_result"
    }
   ],
   "source": [
    "\n",
    "df = pd.read_csv('cleveland_heartdata.csv')\n",
    "df.columns"
   ]
  },
  {
   "cell_type": "code",
   "execution_count": 7,
   "id": "662322cc",
   "metadata": {
    "execution": {
     "iopub.execute_input": "2023-01-22T21:53:42.218176Z",
     "iopub.status.busy": "2023-01-22T21:53:42.217344Z",
     "iopub.status.idle": "2023-01-22T21:53:42.224579Z",
     "shell.execute_reply": "2023-01-22T21:53:42.223654Z"
    },
    "papermill": {
     "duration": 0.018594,
     "end_time": "2023-01-22T21:53:42.226850",
     "exception": false,
     "start_time": "2023-01-22T21:53:42.208256",
     "status": "completed"
    },
    "tags": []
   },
   "outputs": [
    {
     "data": {
      "text/plain": [
       "(303, 14)"
      ]
     },
     "execution_count": 7,
     "metadata": {},
     "output_type": "execute_result"
    }
   ],
   "source": [
    "# Check the shape of the dataset\n",
    "df.shape"
   ]
  },
  {
   "cell_type": "markdown",
   "id": "c72084c0",
   "metadata": {
    "papermill": {
     "duration": 0.007556,
     "end_time": "2023-01-22T21:53:42.241856",
     "exception": false,
     "start_time": "2023-01-22T21:53:42.234300",
     "status": "completed"
    },
    "tags": []
   },
   "source": [
    "## 4. Preprocessing\n",
    "Separate the labels and features and show how many disease and healthy cases are in the original dataset."
   ]
  },
  {
   "cell_type": "code",
   "execution_count": 8,
   "id": "19576eb2",
   "metadata": {
    "execution": {
     "iopub.execute_input": "2023-01-22T21:53:42.259088Z",
     "iopub.status.busy": "2023-01-22T21:53:42.258255Z",
     "iopub.status.idle": "2023-01-22T21:53:42.282349Z",
     "shell.execute_reply": "2023-01-22T21:53:42.279788Z"
    },
    "papermill": {
     "duration": 0.036973,
     "end_time": "2023-01-22T21:53:42.286274",
     "exception": false,
     "start_time": "2023-01-22T21:53:42.249301",
     "status": "completed"
    },
    "tags": []
   },
   "outputs": [
    {
     "name": "stdout",
     "output_type": "stream",
     "text": [
      "Disease cases:      139\n",
      "Healthy cases:      164\n"
     ]
    }
   ],
   "source": [
    "labels = (df['condition'] > 0)\n",
    "features = df.drop(['condition'], axis = 1)\n",
    "\n",
    "print(f'Disease cases: {sum(labels == 1):8d}')\n",
    "print(f'Healthy cases: {sum(labels == 0):8d}')"
   ]
  },
  {
   "cell_type": "markdown",
   "id": "3854ed65",
   "metadata": {
    "papermill": {
     "duration": 0.008877,
     "end_time": "2023-01-22T21:53:42.306791",
     "exception": false,
     "start_time": "2023-01-22T21:53:42.297914",
     "status": "completed"
    },
    "tags": []
   },
   "source": [
    "### 4.1. Study the features"
   ]
  },
  {
   "cell_type": "code",
   "execution_count": 9,
   "id": "22972c95",
   "metadata": {
    "execution": {
     "iopub.execute_input": "2023-01-22T21:53:42.334460Z",
     "iopub.status.busy": "2023-01-22T21:53:42.333794Z",
     "iopub.status.idle": "2023-01-22T21:53:42.364491Z",
     "shell.execute_reply": "2023-01-22T21:53:42.363254Z"
    },
    "papermill": {
     "duration": 0.049387,
     "end_time": "2023-01-22T21:53:42.367249",
     "exception": false,
     "start_time": "2023-01-22T21:53:42.317862",
     "status": "completed"
    },
    "tags": []
   },
   "outputs": [
    {
     "data": {
      "text/html": [
       "<div>\n",
       "<style scoped>\n",
       "    .dataframe tbody tr th:only-of-type {\n",
       "        vertical-align: middle;\n",
       "    }\n",
       "\n",
       "    .dataframe tbody tr th {\n",
       "        vertical-align: top;\n",
       "    }\n",
       "\n",
       "    .dataframe thead th {\n",
       "        text-align: right;\n",
       "    }\n",
       "</style>\n",
       "<table border=\"1\" class=\"dataframe\">\n",
       "  <thead>\n",
       "    <tr style=\"text-align: right;\">\n",
       "      <th></th>\n",
       "      <th>age</th>\n",
       "      <th>sex</th>\n",
       "      <th>cp</th>\n",
       "      <th>trestbps</th>\n",
       "      <th>chol</th>\n",
       "      <th>fbs</th>\n",
       "      <th>restecg</th>\n",
       "      <th>thalach</th>\n",
       "      <th>exang</th>\n",
       "      <th>oldpeak</th>\n",
       "      <th>slope</th>\n",
       "      <th>ca</th>\n",
       "      <th>thal</th>\n",
       "    </tr>\n",
       "  </thead>\n",
       "  <tbody>\n",
       "    <tr>\n",
       "      <th>0</th>\n",
       "      <td>63</td>\n",
       "      <td>1</td>\n",
       "      <td>1</td>\n",
       "      <td>145</td>\n",
       "      <td>233</td>\n",
       "      <td>1</td>\n",
       "      <td>2</td>\n",
       "      <td>150</td>\n",
       "      <td>0</td>\n",
       "      <td>2.3</td>\n",
       "      <td>3</td>\n",
       "      <td>0</td>\n",
       "      <td>6</td>\n",
       "    </tr>\n",
       "    <tr>\n",
       "      <th>1</th>\n",
       "      <td>67</td>\n",
       "      <td>1</td>\n",
       "      <td>4</td>\n",
       "      <td>160</td>\n",
       "      <td>286</td>\n",
       "      <td>0</td>\n",
       "      <td>2</td>\n",
       "      <td>108</td>\n",
       "      <td>1</td>\n",
       "      <td>1.5</td>\n",
       "      <td>2</td>\n",
       "      <td>3</td>\n",
       "      <td>3</td>\n",
       "    </tr>\n",
       "    <tr>\n",
       "      <th>2</th>\n",
       "      <td>67</td>\n",
       "      <td>1</td>\n",
       "      <td>4</td>\n",
       "      <td>120</td>\n",
       "      <td>229</td>\n",
       "      <td>0</td>\n",
       "      <td>2</td>\n",
       "      <td>129</td>\n",
       "      <td>1</td>\n",
       "      <td>2.6</td>\n",
       "      <td>2</td>\n",
       "      <td>2</td>\n",
       "      <td>7</td>\n",
       "    </tr>\n",
       "    <tr>\n",
       "      <th>3</th>\n",
       "      <td>37</td>\n",
       "      <td>1</td>\n",
       "      <td>3</td>\n",
       "      <td>130</td>\n",
       "      <td>250</td>\n",
       "      <td>0</td>\n",
       "      <td>0</td>\n",
       "      <td>187</td>\n",
       "      <td>0</td>\n",
       "      <td>3.5</td>\n",
       "      <td>3</td>\n",
       "      <td>0</td>\n",
       "      <td>3</td>\n",
       "    </tr>\n",
       "    <tr>\n",
       "      <th>4</th>\n",
       "      <td>41</td>\n",
       "      <td>0</td>\n",
       "      <td>2</td>\n",
       "      <td>130</td>\n",
       "      <td>204</td>\n",
       "      <td>0</td>\n",
       "      <td>2</td>\n",
       "      <td>172</td>\n",
       "      <td>0</td>\n",
       "      <td>1.4</td>\n",
       "      <td>1</td>\n",
       "      <td>0</td>\n",
       "      <td>3</td>\n",
       "    </tr>\n",
       "    <tr>\n",
       "      <th>5</th>\n",
       "      <td>56</td>\n",
       "      <td>1</td>\n",
       "      <td>2</td>\n",
       "      <td>120</td>\n",
       "      <td>236</td>\n",
       "      <td>0</td>\n",
       "      <td>0</td>\n",
       "      <td>178</td>\n",
       "      <td>0</td>\n",
       "      <td>0.8</td>\n",
       "      <td>1</td>\n",
       "      <td>0</td>\n",
       "      <td>3</td>\n",
       "    </tr>\n",
       "    <tr>\n",
       "      <th>6</th>\n",
       "      <td>62</td>\n",
       "      <td>0</td>\n",
       "      <td>4</td>\n",
       "      <td>140</td>\n",
       "      <td>268</td>\n",
       "      <td>0</td>\n",
       "      <td>2</td>\n",
       "      <td>160</td>\n",
       "      <td>0</td>\n",
       "      <td>3.6</td>\n",
       "      <td>3</td>\n",
       "      <td>2</td>\n",
       "      <td>3</td>\n",
       "    </tr>\n",
       "    <tr>\n",
       "      <th>7</th>\n",
       "      <td>57</td>\n",
       "      <td>0</td>\n",
       "      <td>4</td>\n",
       "      <td>120</td>\n",
       "      <td>354</td>\n",
       "      <td>0</td>\n",
       "      <td>0</td>\n",
       "      <td>163</td>\n",
       "      <td>1</td>\n",
       "      <td>0.6</td>\n",
       "      <td>1</td>\n",
       "      <td>0</td>\n",
       "      <td>3</td>\n",
       "    </tr>\n",
       "    <tr>\n",
       "      <th>8</th>\n",
       "      <td>63</td>\n",
       "      <td>1</td>\n",
       "      <td>4</td>\n",
       "      <td>130</td>\n",
       "      <td>254</td>\n",
       "      <td>0</td>\n",
       "      <td>2</td>\n",
       "      <td>147</td>\n",
       "      <td>0</td>\n",
       "      <td>1.4</td>\n",
       "      <td>2</td>\n",
       "      <td>1</td>\n",
       "      <td>7</td>\n",
       "    </tr>\n",
       "    <tr>\n",
       "      <th>9</th>\n",
       "      <td>53</td>\n",
       "      <td>1</td>\n",
       "      <td>4</td>\n",
       "      <td>140</td>\n",
       "      <td>203</td>\n",
       "      <td>1</td>\n",
       "      <td>2</td>\n",
       "      <td>155</td>\n",
       "      <td>1</td>\n",
       "      <td>3.1</td>\n",
       "      <td>3</td>\n",
       "      <td>0</td>\n",
       "      <td>7</td>\n",
       "    </tr>\n",
       "  </tbody>\n",
       "</table>\n",
       "</div>"
      ],
      "text/plain": [
       "   age  sex  cp  trestbps  chol  fbs  restecg  thalach  exang  oldpeak  slope  \\\n",
       "0   63    1   1       145   233    1        2      150      0      2.3      3   \n",
       "1   67    1   4       160   286    0        2      108      1      1.5      2   \n",
       "2   67    1   4       120   229    0        2      129      1      2.6      2   \n",
       "3   37    1   3       130   250    0        0      187      0      3.5      3   \n",
       "4   41    0   2       130   204    0        2      172      0      1.4      1   \n",
       "5   56    1   2       120   236    0        0      178      0      0.8      1   \n",
       "6   62    0   4       140   268    0        2      160      0      3.6      3   \n",
       "7   57    0   4       120   354    0        0      163      1      0.6      1   \n",
       "8   63    1   4       130   254    0        2      147      0      1.4      2   \n",
       "9   53    1   4       140   203    1        2      155      1      3.1      3   \n",
       "\n",
       "  ca thal  \n",
       "0  0    6  \n",
       "1  3    3  \n",
       "2  2    7  \n",
       "3  0    3  \n",
       "4  0    3  \n",
       "5  0    3  \n",
       "6  2    3  \n",
       "7  0    3  \n",
       "8  1    7  \n",
       "9  0    7  "
      ]
     },
     "execution_count": 9,
     "metadata": {},
     "output_type": "execute_result"
    }
   ],
   "source": [
    "# Study the features\n",
    "features.head(10)"
   ]
  },
  {
   "cell_type": "code",
   "execution_count": 10,
   "id": "40244e14",
   "metadata": {
    "execution": {
     "iopub.execute_input": "2023-01-22T21:53:42.394964Z",
     "iopub.status.busy": "2023-01-22T21:53:42.393784Z",
     "iopub.status.idle": "2023-01-22T21:53:42.449830Z",
     "shell.execute_reply": "2023-01-22T21:53:42.448553Z"
    },
    "papermill": {
     "duration": 0.073153,
     "end_time": "2023-01-22T21:53:42.452188",
     "exception": false,
     "start_time": "2023-01-22T21:53:42.379035",
     "status": "completed"
    },
    "tags": []
   },
   "outputs": [
    {
     "data": {
      "text/html": [
       "<div>\n",
       "<style scoped>\n",
       "    .dataframe tbody tr th:only-of-type {\n",
       "        vertical-align: middle;\n",
       "    }\n",
       "\n",
       "    .dataframe tbody tr th {\n",
       "        vertical-align: top;\n",
       "    }\n",
       "\n",
       "    .dataframe thead th {\n",
       "        text-align: right;\n",
       "    }\n",
       "</style>\n",
       "<table border=\"1\" class=\"dataframe\">\n",
       "  <thead>\n",
       "    <tr style=\"text-align: right;\">\n",
       "      <th></th>\n",
       "      <th>age</th>\n",
       "      <th>sex</th>\n",
       "      <th>cp</th>\n",
       "      <th>trestbps</th>\n",
       "      <th>chol</th>\n",
       "      <th>fbs</th>\n",
       "      <th>restecg</th>\n",
       "      <th>thalach</th>\n",
       "      <th>exang</th>\n",
       "      <th>oldpeak</th>\n",
       "      <th>slope</th>\n",
       "    </tr>\n",
       "  </thead>\n",
       "  <tbody>\n",
       "    <tr>\n",
       "      <th>count</th>\n",
       "      <td>303.000000</td>\n",
       "      <td>303.000000</td>\n",
       "      <td>303.000000</td>\n",
       "      <td>303.000000</td>\n",
       "      <td>303.000000</td>\n",
       "      <td>303.000000</td>\n",
       "      <td>303.000000</td>\n",
       "      <td>303.000000</td>\n",
       "      <td>303.000000</td>\n",
       "      <td>303.000000</td>\n",
       "      <td>303.000000</td>\n",
       "    </tr>\n",
       "    <tr>\n",
       "      <th>mean</th>\n",
       "      <td>54.438944</td>\n",
       "      <td>0.679868</td>\n",
       "      <td>3.158416</td>\n",
       "      <td>131.689769</td>\n",
       "      <td>246.693069</td>\n",
       "      <td>0.148515</td>\n",
       "      <td>0.990099</td>\n",
       "      <td>149.607261</td>\n",
       "      <td>0.326733</td>\n",
       "      <td>1.039604</td>\n",
       "      <td>1.600660</td>\n",
       "    </tr>\n",
       "    <tr>\n",
       "      <th>std</th>\n",
       "      <td>9.038662</td>\n",
       "      <td>0.467299</td>\n",
       "      <td>0.960126</td>\n",
       "      <td>17.599748</td>\n",
       "      <td>51.776918</td>\n",
       "      <td>0.356198</td>\n",
       "      <td>0.994971</td>\n",
       "      <td>22.875003</td>\n",
       "      <td>0.469794</td>\n",
       "      <td>1.161075</td>\n",
       "      <td>0.616226</td>\n",
       "    </tr>\n",
       "    <tr>\n",
       "      <th>min</th>\n",
       "      <td>29.000000</td>\n",
       "      <td>0.000000</td>\n",
       "      <td>1.000000</td>\n",
       "      <td>94.000000</td>\n",
       "      <td>126.000000</td>\n",
       "      <td>0.000000</td>\n",
       "      <td>0.000000</td>\n",
       "      <td>71.000000</td>\n",
       "      <td>0.000000</td>\n",
       "      <td>0.000000</td>\n",
       "      <td>1.000000</td>\n",
       "    </tr>\n",
       "    <tr>\n",
       "      <th>25%</th>\n",
       "      <td>48.000000</td>\n",
       "      <td>0.000000</td>\n",
       "      <td>3.000000</td>\n",
       "      <td>120.000000</td>\n",
       "      <td>211.000000</td>\n",
       "      <td>0.000000</td>\n",
       "      <td>0.000000</td>\n",
       "      <td>133.500000</td>\n",
       "      <td>0.000000</td>\n",
       "      <td>0.000000</td>\n",
       "      <td>1.000000</td>\n",
       "    </tr>\n",
       "    <tr>\n",
       "      <th>50%</th>\n",
       "      <td>56.000000</td>\n",
       "      <td>1.000000</td>\n",
       "      <td>3.000000</td>\n",
       "      <td>130.000000</td>\n",
       "      <td>241.000000</td>\n",
       "      <td>0.000000</td>\n",
       "      <td>1.000000</td>\n",
       "      <td>153.000000</td>\n",
       "      <td>0.000000</td>\n",
       "      <td>0.800000</td>\n",
       "      <td>2.000000</td>\n",
       "    </tr>\n",
       "    <tr>\n",
       "      <th>75%</th>\n",
       "      <td>61.000000</td>\n",
       "      <td>1.000000</td>\n",
       "      <td>4.000000</td>\n",
       "      <td>140.000000</td>\n",
       "      <td>275.000000</td>\n",
       "      <td>0.000000</td>\n",
       "      <td>2.000000</td>\n",
       "      <td>166.000000</td>\n",
       "      <td>1.000000</td>\n",
       "      <td>1.600000</td>\n",
       "      <td>2.000000</td>\n",
       "    </tr>\n",
       "    <tr>\n",
       "      <th>max</th>\n",
       "      <td>77.000000</td>\n",
       "      <td>1.000000</td>\n",
       "      <td>4.000000</td>\n",
       "      <td>200.000000</td>\n",
       "      <td>564.000000</td>\n",
       "      <td>1.000000</td>\n",
       "      <td>2.000000</td>\n",
       "      <td>202.000000</td>\n",
       "      <td>1.000000</td>\n",
       "      <td>6.200000</td>\n",
       "      <td>3.000000</td>\n",
       "    </tr>\n",
       "  </tbody>\n",
       "</table>\n",
       "</div>"
      ],
      "text/plain": [
       "              age         sex          cp    trestbps        chol         fbs  \\\n",
       "count  303.000000  303.000000  303.000000  303.000000  303.000000  303.000000   \n",
       "mean    54.438944    0.679868    3.158416  131.689769  246.693069    0.148515   \n",
       "std      9.038662    0.467299    0.960126   17.599748   51.776918    0.356198   \n",
       "min     29.000000    0.000000    1.000000   94.000000  126.000000    0.000000   \n",
       "25%     48.000000    0.000000    3.000000  120.000000  211.000000    0.000000   \n",
       "50%     56.000000    1.000000    3.000000  130.000000  241.000000    0.000000   \n",
       "75%     61.000000    1.000000    4.000000  140.000000  275.000000    0.000000   \n",
       "max     77.000000    1.000000    4.000000  200.000000  564.000000    1.000000   \n",
       "\n",
       "          restecg     thalach       exang     oldpeak       slope  \n",
       "count  303.000000  303.000000  303.000000  303.000000  303.000000  \n",
       "mean     0.990099  149.607261    0.326733    1.039604    1.600660  \n",
       "std      0.994971   22.875003    0.469794    1.161075    0.616226  \n",
       "min      0.000000   71.000000    0.000000    0.000000    1.000000  \n",
       "25%      0.000000  133.500000    0.000000    0.000000    1.000000  \n",
       "50%      1.000000  153.000000    0.000000    0.800000    2.000000  \n",
       "75%      2.000000  166.000000    1.000000    1.600000    2.000000  \n",
       "max      2.000000  202.000000    1.000000    6.200000    3.000000  "
      ]
     },
     "execution_count": 10,
     "metadata": {},
     "output_type": "execute_result"
    }
   ],
   "source": [
    "# Get the descriptive statistics\n",
    "features.describe()"
   ]
  },
  {
   "cell_type": "markdown",
   "id": "63585f6c",
   "metadata": {
    "papermill": {
     "duration": 0.007982,
     "end_time": "2023-01-22T21:53:42.468675",
     "exception": false,
     "start_time": "2023-01-22T21:53:42.460693",
     "status": "completed"
    },
    "tags": []
   },
   "source": [
    "The features can be divided into three sets:\n",
    "- binary features having values 0 or 1\n",
    "- numerical features having range of values\n",
    "- categorical features having numerical categorical values"
   ]
  },
  {
   "cell_type": "code",
   "execution_count": 11,
   "id": "4fe06c1d",
   "metadata": {
    "execution": {
     "iopub.execute_input": "2023-01-22T21:53:42.489833Z",
     "iopub.status.busy": "2023-01-22T21:53:42.489439Z",
     "iopub.status.idle": "2023-01-22T21:53:42.495204Z",
     "shell.execute_reply": "2023-01-22T21:53:42.493691Z"
    },
    "papermill": {
     "duration": 0.020165,
     "end_time": "2023-01-22T21:53:42.497687",
     "exception": false,
     "start_time": "2023-01-22T21:53:42.477522",
     "status": "completed"
    },
    "tags": []
   },
   "outputs": [],
   "source": [
    "bin_features = ['sex', 'fbs', 'exang']\n",
    "num_features = ['age', 'trestbps', 'chol', 'thalach', 'oldpeak']\n",
    "cat_features = ['cp', 'restecg', 'slope', 'ca', 'thal']"
   ]
  },
  {
   "cell_type": "markdown",
   "id": "3959879a",
   "metadata": {
    "papermill": {
     "duration": 0.008261,
     "end_time": "2023-01-22T21:53:42.514283",
     "exception": false,
     "start_time": "2023-01-22T21:53:42.506022",
     "status": "completed"
    },
    "tags": []
   },
   "source": [
    "Let's make a histogram of each of these features. We start with binary features."
   ]
  },
  {
   "cell_type": "code",
   "execution_count": 12,
   "id": "e86cf7b7",
   "metadata": {
    "execution": {
     "iopub.execute_input": "2023-01-22T21:53:42.533514Z",
     "iopub.status.busy": "2023-01-22T21:53:42.532776Z",
     "iopub.status.idle": "2023-01-22T21:53:42.970977Z",
     "shell.execute_reply": "2023-01-22T21:53:42.969839Z"
    },
    "papermill": {
     "duration": 0.450686,
     "end_time": "2023-01-22T21:53:42.973699",
     "exception": false,
     "start_time": "2023-01-22T21:53:42.523013",
     "status": "completed"
    },
    "tags": []
   },
   "outputs": [
    {
     "data": {
      "image/png": "[encoded data removed]",
      "text/plain": [
       "<Figure size 1200x300 with 3 Axes>"
      ]
     },
     "metadata": {},
     "output_type": "display_data"
    }
   ],
   "source": [
    "N = len(bin_features)\n",
    "fig, axs = plt.subplots(1, N, figsize=(12, 3))\n",
    "\n",
    "for n in range(N):\n",
    "    sns.histplot(data=features, x=bin_features[n], ax=axs[n])\n",
    "    axs[n].set_ylabel('')\n",
    "plt.show()"
   ]
  },
  {
   "cell_type": "markdown",
   "id": "12ab961e",
   "metadata": {
    "papermill": {
     "duration": 0.008813,
     "end_time": "2023-01-22T21:53:42.991203",
     "exception": false,
     "start_time": "2023-01-22T21:53:42.982390",
     "status": "completed"
    },
    "tags": []
   },
   "source": [
    "Next the categorical features."
   ]
  },
  {
   "cell_type": "code",
   "execution_count": 13,
   "id": "7ef41894",
   "metadata": {
    "execution": {
     "iopub.execute_input": "2023-01-22T21:53:43.010506Z",
     "iopub.status.busy": "2023-01-22T21:53:43.010042Z",
     "iopub.status.idle": "2023-01-22T21:53:43.645368Z",
     "shell.execute_reply": "2023-01-22T21:53:43.644526Z"
    },
    "papermill": {
     "duration": 0.647753,
     "end_time": "2023-01-22T21:53:43.647698",
     "exception": false,
     "start_time": "2023-01-22T21:53:42.999945",
     "status": "completed"
    },
    "tags": []
   },
   "outputs": [
    {
     "data": {
      "image/png": "[encoded data removed]",
      "text/plain": [
       "<Figure size 1200x300 with 5 Axes>"
      ]
     },
     "metadata": {},
     "output_type": "display_data"
    }
   ],
   "source": [
    "N = len(cat_features)\n",
    "fig, axs = plt.subplots(1, N, figsize=(12, 3))\n",
    "\n",
    "for n in range(N):\n",
    "    sns.histplot(data=features, x=cat_features[n], ax=axs[n])\n",
    "    axs[n].set_ylabel('')\n",
    "plt.show()"
   ]
  },
  {
   "cell_type": "markdown",
   "id": "b5980630",
   "metadata": {
    "papermill": {
     "duration": 0.008352,
     "end_time": "2023-01-22T21:53:43.665002",
     "exception": false,
     "start_time": "2023-01-22T21:53:43.656650",
     "status": "completed"
    },
    "tags": []
   },
   "source": [
    "And finally the numerical features."
   ]
  },
  {
   "cell_type": "code",
   "execution_count": 14,
   "id": "6159ee9c",
   "metadata": {
    "execution": {
     "iopub.execute_input": "2023-01-22T21:53:43.685120Z",
     "iopub.status.busy": "2023-01-22T21:53:43.683983Z",
     "iopub.status.idle": "2023-01-22T21:53:44.341104Z",
     "shell.execute_reply": "2023-01-22T21:53:44.339541Z"
    },
    "papermill": {
     "duration": 0.670712,
     "end_time": "2023-01-22T21:53:44.344412",
     "exception": false,
     "start_time": "2023-01-22T21:53:43.673700",
     "status": "completed"
    },
    "tags": []
   },
   "outputs": [
    {
     "data": {
      "image/png": "[encoded data removed]",
      "text/plain": [
       "<Figure size 1200x300 with 5 Axes>"
      ]
     },
     "metadata": {},
     "output_type": "display_data"
    }
   ],
   "source": [
    "N = len(num_features)\n",
    "fig, axs = plt.subplots(1, N, figsize=(12, 3))\n",
    "\n",
    "for n in range(N):\n",
    "    sns.histplot(data=features, x=num_features[n], ax=axs[n])\n",
    "    axs[n].set_ylabel('')\n",
    "plt.show()"
   ]
  },
  {
   "cell_type": "markdown",
   "id": "a5d34c79",
   "metadata": {
    "papermill": {
     "duration": 0.008811,
     "end_time": "2023-01-22T21:53:44.362506",
     "exception": false,
     "start_time": "2023-01-22T21:53:44.353695",
     "status": "completed"
    },
    "tags": []
   },
   "source": [
    "### 4.2. Preprocessing features\n",
    "All binary features can be merged together."
   ]
  },
  {
   "cell_type": "code",
   "execution_count": 15,
   "id": "9873128f",
   "metadata": {
    "execution": {
     "iopub.execute_input": "2023-01-22T21:53:44.382891Z",
     "iopub.status.busy": "2023-01-22T21:53:44.382429Z",
     "iopub.status.idle": "2023-01-22T21:53:44.391880Z",
     "shell.execute_reply": "2023-01-22T21:53:44.390741Z"
    },
    "papermill": {
     "duration": 0.022609,
     "end_time": "2023-01-22T21:53:44.394273",
     "exception": false,
     "start_time": "2023-01-22T21:53:44.371664",
     "status": "completed"
    },
    "tags": []
   },
   "outputs": [
    {
     "data": {
      "text/plain": [
       "array([[1, 1, 0],\n",
       "       [1, 0, 1],\n",
       "       [1, 0, 1],\n",
       "       [1, 0, 0],\n",
       "       [0, 0, 0]], dtype=int64)"
      ]
     },
     "execution_count": 15,
     "metadata": {},
     "output_type": "execute_result"
    }
   ],
   "source": [
    "bin_values = features[bin_features].values\n",
    "bin_values[:5]"
   ]
  },
  {
   "cell_type": "markdown",
   "id": "b8c6f66b",
   "metadata": {
    "papermill": {
     "duration": 0.008851,
     "end_time": "2023-01-22T21:53:44.412350",
     "exception": false,
     "start_time": "2023-01-22T21:53:44.403499",
     "status": "completed"
    },
    "tags": []
   },
   "source": [
    "For numerical features we use one of the `sklearn.preprocessing` scalers."
   ]
  },
  {
   "cell_type": "code",
   "execution_count": 16,
   "id": "c4255bff",
   "metadata": {
    "execution": {
     "iopub.execute_input": "2023-01-22T21:53:44.433431Z",
     "iopub.status.busy": "2023-01-22T21:53:44.432108Z",
     "iopub.status.idle": "2023-01-22T21:53:44.447109Z",
     "shell.execute_reply": "2023-01-22T21:53:44.446049Z"
    },
    "papermill": {
     "duration": 0.027795,
     "end_time": "2023-01-22T21:53:44.449426",
     "exception": false,
     "start_time": "2023-01-22T21:53:44.421631",
     "status": "completed"
    },
    "tags": []
   },
   "outputs": [
    {
     "data": {
      "text/plain": [
       "array([[ 0.53846154,  0.75      , -0.125     , -0.09230769,  0.9375    ],\n",
       "       [ 0.84615385,  1.5       ,  0.703125  , -1.38461538,  0.4375    ],\n",
       "       [ 0.84615385, -0.5       , -0.1875    , -0.73846154,  1.125     ],\n",
       "       [-1.46153846,  0.        ,  0.140625  ,  1.04615385,  1.6875    ],\n",
       "       [-1.15384615,  0.        , -0.578125  ,  0.58461538,  0.375     ]])"
      ]
     },
     "execution_count": 16,
     "metadata": {},
     "output_type": "execute_result"
    }
   ],
   "source": [
    "transformer = preprocessing.RobustScaler().fit(features[num_features])\n",
    "num_values = transformer.transform(features[num_features])\n",
    "num_values[:5]"
   ]
  },
  {
   "cell_type": "markdown",
   "id": "3acec20c",
   "metadata": {
    "papermill": {
     "duration": 0.009125,
     "end_time": "2023-01-22T21:53:44.467883",
     "exception": false,
     "start_time": "2023-01-22T21:53:44.458758",
     "status": "completed"
    },
    "tags": []
   },
   "source": [
    "Categorical features are one-hot encoded."
   ]
  },
  {
   "cell_type": "code",
   "execution_count": 17,
   "id": "0f8f0d88",
   "metadata": {
    "execution": {
     "iopub.execute_input": "2023-01-22T21:53:44.488044Z",
     "iopub.status.busy": "2023-01-22T21:53:44.487596Z",
     "iopub.status.idle": "2023-01-22T21:53:44.503547Z",
     "shell.execute_reply": "2023-01-22T21:53:44.502463Z"
    },
    "papermill": {
     "duration": 0.02875,
     "end_time": "2023-01-22T21:53:44.505865",
     "exception": false,
     "start_time": "2023-01-22T21:53:44.477115",
     "status": "completed"
    },
    "tags": []
   },
   "outputs": [
    {
     "data": {
      "text/plain": [
       "array([[1., 0., 0., 0., 0., 0., 1., 0., 0., 1., 1., 0., 0., 0., 0., 0.,\n",
       "        1., 0., 0.],\n",
       "       [0., 0., 0., 1., 0., 0., 1., 0., 1., 0., 0., 0., 0., 1., 0., 1.,\n",
       "        0., 0., 0.],\n",
       "       [0., 0., 0., 1., 0., 0., 1., 0., 1., 0., 0., 0., 1., 0., 0., 0.,\n",
       "        0., 1., 0.],\n",
       "       [0., 0., 1., 0., 1., 0., 0., 0., 0., 1., 1., 0., 0., 0., 0., 1.,\n",
       "        0., 0., 0.],\n",
       "       [0., 1., 0., 0., 0., 0., 1., 1., 0., 0., 1., 0., 0., 0., 0., 1.,\n",
       "        0., 0., 0.]])"
      ]
     },
     "execution_count": 17,
     "metadata": {},
     "output_type": "execute_result"
    }
   ],
   "source": [
    "encoder = preprocessing.OneHotEncoder().fit(features[cat_features])\n",
    "cat_values = encoder.transform(features[cat_features]).toarray()\n",
    "cat_values[:5]"
   ]
  },
  {
   "cell_type": "markdown",
   "id": "5a21b51b",
   "metadata": {
    "papermill": {
     "duration": 0.009234,
     "end_time": "2023-01-22T21:53:44.524879",
     "exception": false,
     "start_time": "2023-01-22T21:53:44.515645",
     "status": "completed"
    },
    "tags": []
   },
   "source": [
    "### 4.3. Merge preprocessed features\n",
    "Then we merge all values together. First check the shape of the values."
   ]
  },
  {
   "cell_type": "code",
   "execution_count": 18,
   "id": "993a20d6",
   "metadata": {
    "execution": {
     "iopub.execute_input": "2023-01-22T21:53:44.545937Z",
     "iopub.status.busy": "2023-01-22T21:53:44.545116Z",
     "iopub.status.idle": "2023-01-22T21:53:44.553386Z",
     "shell.execute_reply": "2023-01-22T21:53:44.551977Z"
    },
    "papermill": {
     "duration": 0.021491,
     "end_time": "2023-01-22T21:53:44.555855",
     "exception": false,
     "start_time": "2023-01-22T21:53:44.534364",
     "status": "completed"
    },
    "tags": []
   },
   "outputs": [
    {
     "data": {
      "text/plain": [
       "((303, 3), (303, 5), (303, 19))"
      ]
     },
     "execution_count": 18,
     "metadata": {},
     "output_type": "execute_result"
    }
   ],
   "source": [
    "bin_values.shape, num_values.shape, cat_values.shape"
   ]
  },
  {
   "cell_type": "markdown",
   "id": "816cb554",
   "metadata": {
    "papermill": {
     "duration": 0.009714,
     "end_time": "2023-01-22T21:53:44.575309",
     "exception": false,
     "start_time": "2023-01-22T21:53:44.565595",
     "status": "completed"
    },
    "tags": []
   },
   "source": [
    "Concatenate all values together columnwise."
   ]
  },
  {
   "cell_type": "code",
   "execution_count": 19,
   "id": "b91e8fef",
   "metadata": {
    "execution": {
     "iopub.execute_input": "2023-01-22T21:53:44.596783Z",
     "iopub.status.busy": "2023-01-22T21:53:44.595644Z",
     "iopub.status.idle": "2023-01-22T21:53:44.602952Z",
     "shell.execute_reply": "2023-01-22T21:53:44.601588Z"
    },
    "papermill": {
     "duration": 0.020793,
     "end_time": "2023-01-22T21:53:44.605608",
     "exception": false,
     "start_time": "2023-01-22T21:53:44.584815",
     "status": "completed"
    },
    "tags": []
   },
   "outputs": [
    {
     "data": {
      "text/plain": [
       "(303, 27)"
      ]
     },
     "execution_count": 19,
     "metadata": {},
     "output_type": "execute_result"
    }
   ],
   "source": [
    "all_values = np.concatenate((bin_values, num_values, cat_values), axis = 1)\n",
    "all_values.shape"
   ]
  },
  {
   "cell_type": "markdown",
   "id": "899d3be3",
   "metadata": {
    "papermill": {
     "duration": 0.009343,
     "end_time": "2023-01-22T21:53:44.625049",
     "exception": false,
     "start_time": "2023-01-22T21:53:44.615706",
     "status": "completed"
    },
    "tags": []
   },
   "source": [
    "Let's check how one row of data looks like."
   ]
  },
  {
   "cell_type": "code",
   "execution_count": 20,
   "id": "9538891a",
   "metadata": {
    "execution": {
     "iopub.execute_input": "2023-01-22T21:53:44.646498Z",
     "iopub.status.busy": "2023-01-22T21:53:44.646014Z",
     "iopub.status.idle": "2023-01-22T21:53:44.653113Z",
     "shell.execute_reply": "2023-01-22T21:53:44.652244Z"
    },
    "papermill": {
     "duration": 0.020661,
     "end_time": "2023-01-22T21:53:44.655319",
     "exception": false,
     "start_time": "2023-01-22T21:53:44.634658",
     "status": "completed"
    },
    "tags": []
   },
   "outputs": [
    {
     "data": {
      "text/plain": [
       "array([[ 1.        ,  1.        ,  0.        ,  0.53846154,  0.75      ,\n",
       "        -0.125     , -0.09230769,  0.9375    ,  1.        ,  0.        ,\n",
       "         0.        ,  0.        ,  0.        ,  0.        ,  1.        ,\n",
       "         0.        ,  0.        ,  1.        ,  1.        ,  0.        ,\n",
       "         0.        ,  0.        ,  0.        ,  0.        ,  1.        ,\n",
       "         0.        ,  0.        ]])"
      ]
     },
     "execution_count": 20,
     "metadata": {},
     "output_type": "execute_result"
    }
   ],
   "source": [
    "all_values[:1]"
   ]
  },
  {
   "cell_type": "markdown",
   "id": "159cdc22",
   "metadata": {
    "papermill": {
     "duration": 0.010351,
     "end_time": "2023-01-22T21:53:44.675528",
     "exception": false,
     "start_time": "2023-01-22T21:53:44.665177",
     "status": "completed"
    },
    "tags": []
   },
   "source": [
    "Let's convert the values back to Pandas' DataFrame and study the descriptive statistics."
   ]
  },
  {
   "cell_type": "code",
   "execution_count": 21,
   "id": "926f1c15",
   "metadata": {
    "execution": {
     "iopub.execute_input": "2023-01-22T21:53:44.697313Z",
     "iopub.status.busy": "2023-01-22T21:53:44.696849Z",
     "iopub.status.idle": "2023-01-22T21:53:44.782420Z",
     "shell.execute_reply": "2023-01-22T21:53:44.781312Z"
    },
    "papermill": {
     "duration": 0.099325,
     "end_time": "2023-01-22T21:53:44.784821",
     "exception": false,
     "start_time": "2023-01-22T21:53:44.685496",
     "status": "completed"
    },
    "tags": []
   },
   "outputs": [
    {
     "data": {
      "text/html": [
       "<div>\n",
       "<style scoped>\n",
       "    .dataframe tbody tr th:only-of-type {\n",
       "        vertical-align: middle;\n",
       "    }\n",
       "\n",
       "    .dataframe tbody tr th {\n",
       "        vertical-align: top;\n",
       "    }\n",
       "\n",
       "    .dataframe thead th {\n",
       "        text-align: right;\n",
       "    }\n",
       "</style>\n",
       "<table border=\"1\" class=\"dataframe\">\n",
       "  <thead>\n",
       "    <tr style=\"text-align: right;\">\n",
       "      <th></th>\n",
       "      <th>count</th>\n",
       "      <th>mean</th>\n",
       "      <th>std</th>\n",
       "      <th>min</th>\n",
       "      <th>25%</th>\n",
       "      <th>50%</th>\n",
       "      <th>75%</th>\n",
       "      <th>max</th>\n",
       "    </tr>\n",
       "  </thead>\n",
       "  <tbody>\n",
       "    <tr>\n",
       "      <th>0</th>\n",
       "      <td>303.0</td>\n",
       "      <td>0.679868</td>\n",
       "      <td>0.467299</td>\n",
       "      <td>0.000000</td>\n",
       "      <td>0.000000</td>\n",
       "      <td>1.0</td>\n",
       "      <td>1.000000</td>\n",
       "      <td>1.000000</td>\n",
       "    </tr>\n",
       "    <tr>\n",
       "      <th>1</th>\n",
       "      <td>303.0</td>\n",
       "      <td>0.148515</td>\n",
       "      <td>0.356198</td>\n",
       "      <td>0.000000</td>\n",
       "      <td>0.000000</td>\n",
       "      <td>0.0</td>\n",
       "      <td>0.000000</td>\n",
       "      <td>1.000000</td>\n",
       "    </tr>\n",
       "    <tr>\n",
       "      <th>2</th>\n",
       "      <td>303.0</td>\n",
       "      <td>0.326733</td>\n",
       "      <td>0.469794</td>\n",
       "      <td>0.000000</td>\n",
       "      <td>0.000000</td>\n",
       "      <td>0.0</td>\n",
       "      <td>1.000000</td>\n",
       "      <td>1.000000</td>\n",
       "    </tr>\n",
       "    <tr>\n",
       "      <th>3</th>\n",
       "      <td>303.0</td>\n",
       "      <td>-0.120081</td>\n",
       "      <td>0.695282</td>\n",
       "      <td>-2.076923</td>\n",
       "      <td>-0.615385</td>\n",
       "      <td>0.0</td>\n",
       "      <td>0.384615</td>\n",
       "      <td>1.615385</td>\n",
       "    </tr>\n",
       "    <tr>\n",
       "      <th>4</th>\n",
       "      <td>303.0</td>\n",
       "      <td>0.084488</td>\n",
       "      <td>0.879987</td>\n",
       "      <td>-1.800000</td>\n",
       "      <td>-0.500000</td>\n",
       "      <td>0.0</td>\n",
       "      <td>0.500000</td>\n",
       "      <td>3.500000</td>\n",
       "    </tr>\n",
       "    <tr>\n",
       "      <th>5</th>\n",
       "      <td>303.0</td>\n",
       "      <td>0.088954</td>\n",
       "      <td>0.809014</td>\n",
       "      <td>-1.796875</td>\n",
       "      <td>-0.468750</td>\n",
       "      <td>0.0</td>\n",
       "      <td>0.531250</td>\n",
       "      <td>5.046875</td>\n",
       "    </tr>\n",
       "    <tr>\n",
       "      <th>6</th>\n",
       "      <td>303.0</td>\n",
       "      <td>-0.104392</td>\n",
       "      <td>0.703846</td>\n",
       "      <td>-2.523077</td>\n",
       "      <td>-0.600000</td>\n",
       "      <td>0.0</td>\n",
       "      <td>0.400000</td>\n",
       "      <td>1.507692</td>\n",
       "    </tr>\n",
       "    <tr>\n",
       "      <th>7</th>\n",
       "      <td>303.0</td>\n",
       "      <td>0.149752</td>\n",
       "      <td>0.725672</td>\n",
       "      <td>-0.500000</td>\n",
       "      <td>-0.500000</td>\n",
       "      <td>0.0</td>\n",
       "      <td>0.500000</td>\n",
       "      <td>3.375000</td>\n",
       "    </tr>\n",
       "    <tr>\n",
       "      <th>8</th>\n",
       "      <td>303.0</td>\n",
       "      <td>0.075908</td>\n",
       "      <td>0.265288</td>\n",
       "      <td>0.000000</td>\n",
       "      <td>0.000000</td>\n",
       "      <td>0.0</td>\n",
       "      <td>0.000000</td>\n",
       "      <td>1.000000</td>\n",
       "    </tr>\n",
       "    <tr>\n",
       "      <th>9</th>\n",
       "      <td>303.0</td>\n",
       "      <td>0.165017</td>\n",
       "      <td>0.371809</td>\n",
       "      <td>0.000000</td>\n",
       "      <td>0.000000</td>\n",
       "      <td>0.0</td>\n",
       "      <td>0.000000</td>\n",
       "      <td>1.000000</td>\n",
       "    </tr>\n",
       "    <tr>\n",
       "      <th>10</th>\n",
       "      <td>303.0</td>\n",
       "      <td>0.283828</td>\n",
       "      <td>0.451600</td>\n",
       "      <td>0.000000</td>\n",
       "      <td>0.000000</td>\n",
       "      <td>0.0</td>\n",
       "      <td>1.000000</td>\n",
       "      <td>1.000000</td>\n",
       "    </tr>\n",
       "    <tr>\n",
       "      <th>11</th>\n",
       "      <td>303.0</td>\n",
       "      <td>0.475248</td>\n",
       "      <td>0.500213</td>\n",
       "      <td>0.000000</td>\n",
       "      <td>0.000000</td>\n",
       "      <td>0.0</td>\n",
       "      <td>1.000000</td>\n",
       "      <td>1.000000</td>\n",
       "    </tr>\n",
       "    <tr>\n",
       "      <th>12</th>\n",
       "      <td>303.0</td>\n",
       "      <td>0.498350</td>\n",
       "      <td>0.500824</td>\n",
       "      <td>0.000000</td>\n",
       "      <td>0.000000</td>\n",
       "      <td>0.0</td>\n",
       "      <td>1.000000</td>\n",
       "      <td>1.000000</td>\n",
       "    </tr>\n",
       "    <tr>\n",
       "      <th>13</th>\n",
       "      <td>303.0</td>\n",
       "      <td>0.013201</td>\n",
       "      <td>0.114325</td>\n",
       "      <td>0.000000</td>\n",
       "      <td>0.000000</td>\n",
       "      <td>0.0</td>\n",
       "      <td>0.000000</td>\n",
       "      <td>1.000000</td>\n",
       "    </tr>\n",
       "    <tr>\n",
       "      <th>14</th>\n",
       "      <td>303.0</td>\n",
       "      <td>0.488449</td>\n",
       "      <td>0.500693</td>\n",
       "      <td>0.000000</td>\n",
       "      <td>0.000000</td>\n",
       "      <td>0.0</td>\n",
       "      <td>1.000000</td>\n",
       "      <td>1.000000</td>\n",
       "    </tr>\n",
       "    <tr>\n",
       "      <th>15</th>\n",
       "      <td>303.0</td>\n",
       "      <td>0.468647</td>\n",
       "      <td>0.499842</td>\n",
       "      <td>0.000000</td>\n",
       "      <td>0.000000</td>\n",
       "      <td>0.0</td>\n",
       "      <td>1.000000</td>\n",
       "      <td>1.000000</td>\n",
       "    </tr>\n",
       "    <tr>\n",
       "      <th>16</th>\n",
       "      <td>303.0</td>\n",
       "      <td>0.462046</td>\n",
       "      <td>0.499382</td>\n",
       "      <td>0.000000</td>\n",
       "      <td>0.000000</td>\n",
       "      <td>0.0</td>\n",
       "      <td>1.000000</td>\n",
       "      <td>1.000000</td>\n",
       "    </tr>\n",
       "    <tr>\n",
       "      <th>17</th>\n",
       "      <td>303.0</td>\n",
       "      <td>0.069307</td>\n",
       "      <td>0.254395</td>\n",
       "      <td>0.000000</td>\n",
       "      <td>0.000000</td>\n",
       "      <td>0.0</td>\n",
       "      <td>0.000000</td>\n",
       "      <td>1.000000</td>\n",
       "    </tr>\n",
       "    <tr>\n",
       "      <th>18</th>\n",
       "      <td>303.0</td>\n",
       "      <td>0.580858</td>\n",
       "      <td>0.494235</td>\n",
       "      <td>0.000000</td>\n",
       "      <td>0.000000</td>\n",
       "      <td>1.0</td>\n",
       "      <td>1.000000</td>\n",
       "      <td>1.000000</td>\n",
       "    </tr>\n",
       "    <tr>\n",
       "      <th>19</th>\n",
       "      <td>303.0</td>\n",
       "      <td>0.214521</td>\n",
       "      <td>0.411169</td>\n",
       "      <td>0.000000</td>\n",
       "      <td>0.000000</td>\n",
       "      <td>0.0</td>\n",
       "      <td>0.000000</td>\n",
       "      <td>1.000000</td>\n",
       "    </tr>\n",
       "    <tr>\n",
       "      <th>20</th>\n",
       "      <td>303.0</td>\n",
       "      <td>0.125413</td>\n",
       "      <td>0.331734</td>\n",
       "      <td>0.000000</td>\n",
       "      <td>0.000000</td>\n",
       "      <td>0.0</td>\n",
       "      <td>0.000000</td>\n",
       "      <td>1.000000</td>\n",
       "    </tr>\n",
       "    <tr>\n",
       "      <th>21</th>\n",
       "      <td>303.0</td>\n",
       "      <td>0.066007</td>\n",
       "      <td>0.248704</td>\n",
       "      <td>0.000000</td>\n",
       "      <td>0.000000</td>\n",
       "      <td>0.0</td>\n",
       "      <td>0.000000</td>\n",
       "      <td>1.000000</td>\n",
       "    </tr>\n",
       "    <tr>\n",
       "      <th>22</th>\n",
       "      <td>303.0</td>\n",
       "      <td>0.013201</td>\n",
       "      <td>0.114325</td>\n",
       "      <td>0.000000</td>\n",
       "      <td>0.000000</td>\n",
       "      <td>0.0</td>\n",
       "      <td>0.000000</td>\n",
       "      <td>1.000000</td>\n",
       "    </tr>\n",
       "    <tr>\n",
       "      <th>23</th>\n",
       "      <td>303.0</td>\n",
       "      <td>0.547855</td>\n",
       "      <td>0.498528</td>\n",
       "      <td>0.000000</td>\n",
       "      <td>0.000000</td>\n",
       "      <td>1.0</td>\n",
       "      <td>1.000000</td>\n",
       "      <td>1.000000</td>\n",
       "    </tr>\n",
       "    <tr>\n",
       "      <th>24</th>\n",
       "      <td>303.0</td>\n",
       "      <td>0.059406</td>\n",
       "      <td>0.236774</td>\n",
       "      <td>0.000000</td>\n",
       "      <td>0.000000</td>\n",
       "      <td>0.0</td>\n",
       "      <td>0.000000</td>\n",
       "      <td>1.000000</td>\n",
       "    </tr>\n",
       "    <tr>\n",
       "      <th>25</th>\n",
       "      <td>303.0</td>\n",
       "      <td>0.386139</td>\n",
       "      <td>0.487668</td>\n",
       "      <td>0.000000</td>\n",
       "      <td>0.000000</td>\n",
       "      <td>0.0</td>\n",
       "      <td>1.000000</td>\n",
       "      <td>1.000000</td>\n",
       "    </tr>\n",
       "    <tr>\n",
       "      <th>26</th>\n",
       "      <td>303.0</td>\n",
       "      <td>0.006601</td>\n",
       "      <td>0.081110</td>\n",
       "      <td>0.000000</td>\n",
       "      <td>0.000000</td>\n",
       "      <td>0.0</td>\n",
       "      <td>0.000000</td>\n",
       "      <td>1.000000</td>\n",
       "    </tr>\n",
       "  </tbody>\n",
       "</table>\n",
       "</div>"
      ],
      "text/plain": [
       "    count      mean       std       min       25%  50%       75%       max\n",
       "0   303.0  0.679868  0.467299  0.000000  0.000000  1.0  1.000000  1.000000\n",
       "1   303.0  0.148515  0.356198  0.000000  0.000000  0.0  0.000000  1.000000\n",
       "2   303.0  0.326733  0.469794  0.000000  0.000000  0.0  1.000000  1.000000\n",
       "3   303.0 -0.120081  0.695282 -2.076923 -0.615385  0.0  0.384615  1.615385\n",
       "4   303.0  0.084488  0.879987 -1.800000 -0.500000  0.0  0.500000  3.500000\n",
       "5   303.0  0.088954  0.809014 -1.796875 -0.468750  0.0  0.531250  5.046875\n",
       "6   303.0 -0.104392  0.703846 -2.523077 -0.600000  0.0  0.400000  1.507692\n",
       "7   303.0  0.149752  0.725672 -0.500000 -0.500000  0.0  0.500000  3.375000\n",
       "8   303.0  0.075908  0.265288  0.000000  0.000000  0.0  0.000000  1.000000\n",
       "9   303.0  0.165017  0.371809  0.000000  0.000000  0.0  0.000000  1.000000\n",
       "10  303.0  0.283828  0.451600  0.000000  0.000000  0.0  1.000000  1.000000\n",
       "11  303.0  0.475248  0.500213  0.000000  0.000000  0.0  1.000000  1.000000\n",
       "12  303.0  0.498350  0.500824  0.000000  0.000000  0.0  1.000000  1.000000\n",
       "13  303.0  0.013201  0.114325  0.000000  0.000000  0.0  0.000000  1.000000\n",
       "14  303.0  0.488449  0.500693  0.000000  0.000000  0.0  1.000000  1.000000\n",
       "15  303.0  0.468647  0.499842  0.000000  0.000000  0.0  1.000000  1.000000\n",
       "16  303.0  0.462046  0.499382  0.000000  0.000000  0.0  1.000000  1.000000\n",
       "17  303.0  0.069307  0.254395  0.000000  0.000000  0.0  0.000000  1.000000\n",
       "18  303.0  0.580858  0.494235  0.000000  0.000000  1.0  1.000000  1.000000\n",
       "19  303.0  0.214521  0.411169  0.000000  0.000000  0.0  0.000000  1.000000\n",
       "20  303.0  0.125413  0.331734  0.000000  0.000000  0.0  0.000000  1.000000\n",
       "21  303.0  0.066007  0.248704  0.000000  0.000000  0.0  0.000000  1.000000\n",
       "22  303.0  0.013201  0.114325  0.000000  0.000000  0.0  0.000000  1.000000\n",
       "23  303.0  0.547855  0.498528  0.000000  0.000000  1.0  1.000000  1.000000\n",
       "24  303.0  0.059406  0.236774  0.000000  0.000000  0.0  0.000000  1.000000\n",
       "25  303.0  0.386139  0.487668  0.000000  0.000000  0.0  1.000000  1.000000\n",
       "26  303.0  0.006601  0.081110  0.000000  0.000000  0.0  0.000000  1.000000"
      ]
     },
     "execution_count": 21,
     "metadata": {},
     "output_type": "execute_result"
    }
   ],
   "source": [
    "preprocessed_features = pd.DataFrame(all_values)\n",
    "preprocessed_features.describe().T"
   ]
  },
  {
   "cell_type": "markdown",
   "id": "4897e0ce",
   "metadata": {
    "papermill": {
     "duration": 0.009931,
     "end_time": "2023-01-22T21:53:44.804950",
     "exception": false,
     "start_time": "2023-01-22T21:53:44.795019",
     "status": "completed"
    },
    "tags": []
   },
   "source": [
    "## Learn more\n",
    "\n",
    "- [Preprocessing data | scikit-learn](https://scikit-learn.org/stable/modules/preprocessing.html#)\n",
    "- [Common pitfalls | scikit-learn](https://scikit-learn.org/stable/common_pitfalls.html)"
   ]
  }
 ],
 "metadata": {
  "kernelspec": {
   "display_name": "Python 3 (ipykernel)",
   "language": "python",
   "name": "python3"
  },
  "language_info": {
   "codemirror_mode": {
    "name": "ipython",
    "version": 3
   },
   "file_extension": ".py",
   "mimetype": "text/x-python",
   "name": "python",
   "nbconvert_exporter": "python",
   "pygments_lexer": "ipython3",
   "version": "3.9.13"
  },
  "papermill": {
   "default_parameters": {},
   "duration": 14.31852,
   "end_time": "2023-01-22T21:53:45.639284",
   "environment_variables": {},
   "exception": null,
   "input_path": "__notebook__.ipynb",
   "output_path": "__notebook__.ipynb",
   "parameters": {},
   "start_time": "2023-01-22T21:53:31.320764",
   "version": "2.3.4"
  }
 },
 "nbformat": 4,
 "nbformat_minor": 5
}
